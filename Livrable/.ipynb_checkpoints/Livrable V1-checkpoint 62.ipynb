{
 "cells": [
  {
   "cell_type": "code",
   "execution_count": 1,
   "id": "ffa8402a",
   "metadata": {},
   "outputs": [],
   "source": [
    "import warnings\n",
    "warnings.simplefilter(action='ignore', category=FutureWarning)"
   ]
  },
  {
   "cell_type": "markdown",
   "id": "16068e71",
   "metadata": {},
   "source": [
    "# La"
   ]
  },
  {
   "cell_type": "code",
   "execution_count": 2,
   "id": "8343e56b",
   "metadata": {},
   "outputs": [],
   "source": [
    "%run My_function.ipynb"
   ]
  },
  {
   "cell_type": "markdown",
   "id": "81f6ed7b",
   "metadata": {},
   "source": [
    "<div class=\"oc-richContent root-0-2-1\" data-videotitle=\"video\" data-current-user-id=\"328418\" data-project-id=\"863\" data-codio-button-label=\"Accéder au code\"><p>&nbsp;</p>\n",
    "<p><img src=\"https://user.oc-static.com/upload/2023/03/15/16788718737642_Banner-Sce%CC%81nario.png\" alt=\"Bannière scénario\"></p>\n",
    "\n",
    "<p>Vous êtes consultant Data Analyst dans une entreprise spécialisée dans la data. Votre entreprise a décroché une prestation en régie au sein de l’Organisation nationale de lutte contre le faux-monnayage (ONCFM).</p>\n",
    "<p>&nbsp;</p>\n",
    "<figure><a href=\"https://user.oc-static.com/upload/2020/11/25/16063163322759_Screen%20Shot%202020-11-05%20at%2011.15.15.png\" class=\"oc-imageLink oc-imageLink--disabled\"><img src=\"https://user.oc-static.com/upload/2020/11/25/16063163322759_Screen%20Shot%202020-11-05%20at%2011.15.15.png\" alt=\"\"></a></figure>\n",
    "<p>&nbsp;</p>\n",
    "<p>Cette institution a pour objectif de mettre en place des méthodes d’identification des contrefaçons des billets en euros. Ils font donc appel à vous, spécialiste de la data, pour mettre en place une modélisation qui serait capable d’identifier automatiquement les vrais des faux billets. Et ce à partir simplement de certaines dimensions du billet et des éléments qui le composent.</p>\n",
    "<p>Voici <a href=\"https://s3-eu-west-1.amazonaws.com/static.oc-static.com/prod/courses/files/parcours-data-analyst/DAN-P10-cdc-detection-faux-billets.pdf\">le cahier des charges de l’ONCFM</a>, ainsi que&nbsp;<a href=\"https://s3-eu-west-1.amazonaws.com/static.oc-static.com/prod/courses/files/parcours-data-analyst/billets.csv\">le jeu de données</a>.</p>\n",
    "<p>Le client souhaite que vous travailliez directement depuis ses locaux sous la responsabilité de Marie, responsable du projet d’analyse de données à l’ONCFM. Elle vous laissera une grande autonomie pendant votre mission, et vous demande simplement que vous lui présentiez vos résultats une fois la mission terminée. Elle souhaite voir quels sont les traitements et analyses que vous avez réalisés en amont, les différentes pistes explorées pour la construction de l’algorithme, ainsi que le modèle final retenu.</p>\n",
    "<p>Après avoir lu en détail le cahier des charges, vous vous préparez à vous rendre à l’ONCFM pour prendre vos nouvelles fonctions. Vous notez tout de même un post-it qui se trouve sur le coin de votre bureau, laissé par un de vos collègues :</p>\n",
    "<figure><a href=\"https://user.oc-static.com/upload/2020/11/25/16063165227448_De%CC%81tectez%20des%20faux%20billets%20-%20post%20it.png\" class=\"oc-imageLink oc-imageLink--disabled\"><img src=\"https://user.oc-static.com/upload/2020/11/25/16063165227448_De%CC%81tectez%20des%20faux%20billets%20-%20post%20it.png\" alt=\"Lors de ma précédente mission, je me suis retrouvé avec un jeu de données comportant plein de valeurs manquantes, une vraie galère&nbsp;! Mais j’ai eu de très bons résultats en utilisant une régression linéaire pour combler ces dernières. Ça te servira peut-être pour ta prochaine mission, qui sait&nbsp;?\"></a></figure>\n",
    "<p>Vous embarquez le post-it dans vos affaires et vous dirigez donc à présent vers les bureaux de l’ONCFM pour commencer votre mission.</p>\n",
    "\n",
    "<p><img src=\"https://user.oc-static.com/upload/2023/03/15/16788719253125_Banner-Livrables.png\" alt=\"Bannière livrables\"></p>\n",
    "\n",
    "<ul>\n",
    "<li>Votre code en R ou Python contenant :&nbsp;</li>\n",
    "<ul>\n",
    "<li>l’ensemble des traitements et des tests effectués ;</li>\n",
    "<li>l’application finale.</li>\n",
    "</ul>\n",
    "</ul>\n",
    "<aside data-claire-semantic=\"information\">\n",
    "<p>Pour faciliter votre passage devant le jury, déposez sur la plateforme, dans un dossier zip nommé “<strong><em>Titre_du_projet_nom_prénom</em></strong>”, le livrable du projet nommé comme suit : <strong>Nom</strong>_<strong>Prénom</strong>_<strong>n° du livrable</strong>_<strong>nom du livrable</strong>_<strong>date de démarrage du projet</strong>. Cela donnera :&nbsp;</p>\n",
    "<ul>\n",
    "<li><em>Nom_Prénom_1_code_mmaaaa</em></li>\n",
    "</ul>\n",
    "<p>Par exemple, le livrable peut être nommé comme suit <em>: Dupont_Jean_1_code</em>_<em>012023.</em></p>\n",
    "</aside>\n",
    "\n",
    "<p><img src=\"https://user.oc-static.com/upload/2023/03/15/16788719600459_Banner-Soutenance.png\" alt=\"Bannière soutenance\"></p>\n",
    "<p>Durant la présentation orale, votre mentor jouera le rôle de Marie, la responsable du projet à l’ONCFM à qui vous présentez vos résultats :&nbsp;</p>\n",
    "<ul>\n",
    "<li><strong>Présentation des livrables (20 minutes)&nbsp;</strong>\n",
    "<ul>\n",
    "<li>Présentation de l’ensemble de votre cheminement, des traitements et analyses réalisés en amont, des différentes pistes explorées pour la construction de l’algorithme, et du modèle final retenu (15 minutes) ;</li>\n",
    "<li>Test de l’algorithme en direct avec un jeu de données qui vous sera fourni pendant la soutenance, ayant la même forme que le jeu suivant : <a href=\"https://s3-eu-west-1.amazonaws.com/static.oc-static.com/prod/courses/files/parcours-data-analyst/billets_production.csv\">FICHIER billets_production.csv</a>&nbsp;(5&nbsp;minutes).</li>\n",
    "</ul>\n",
    "</li>\n",
    "<li><strong>Discussion (5 minutes)</strong>\n",
    "<ul>\n",
    "<li>Échange de questions/réponses : l’évaluateur pourra revenir sur certains points pour vous questionner sur vos choix.</li>\n",
    "<li>L’évaluateur vous fera un retour sur votre prestation en soutenance.</li>\n",
    "</ul>\n",
    "</li>\n",
    "<li><strong>Debriefing (5 minutes)</strong></li>\n",
    "<ul>\n",
    "<li>À la fin de la soutenance, l'évaluateur arrêtera de jouer le rôle de Marie pour vous permettre de débriefer ensemble.</li>\n",
    "</ul>\n",
    "</ul>\n"
   ]
  },
  {
   "cell_type": "markdown",
   "id": "9827fcfe",
   "metadata": {},
   "source": [
    "# Récupération des données"
   ]
  },
  {
   "cell_type": "code",
   "execution_count": 3,
   "id": "b4eea073",
   "metadata": {},
   "outputs": [],
   "source": [
    "data = pd.read_csv(\"Données/billets.csv\",sep=\";\")"
   ]
  },
  {
   "cell_type": "markdown",
   "id": "b60fc2d4",
   "metadata": {},
   "source": [
    "# Exploration des données"
   ]
  },
  {
   "cell_type": "markdown",
   "id": "f795e768",
   "metadata": {},
   "source": [
    "## Exploration"
   ]
  },
  {
   "cell_type": "code",
   "execution_count": 4,
   "id": "5732af01",
   "metadata": {},
   "outputs": [
    {
     "data": {
      "text/html": [
       "<div>\n",
       "<style scoped>\n",
       "    .dataframe tbody tr th:only-of-type {\n",
       "        vertical-align: middle;\n",
       "    }\n",
       "\n",
       "    .dataframe tbody tr th {\n",
       "        vertical-align: top;\n",
       "    }\n",
       "\n",
       "    .dataframe thead th {\n",
       "        text-align: right;\n",
       "    }\n",
       "</style>\n",
       "<table border=\"1\" class=\"dataframe\">\n",
       "  <thead>\n",
       "    <tr style=\"text-align: right;\">\n",
       "      <th></th>\n",
       "      <th>is_genuine</th>\n",
       "      <th>diagonal</th>\n",
       "      <th>height_left</th>\n",
       "      <th>height_right</th>\n",
       "      <th>margin_low</th>\n",
       "      <th>margin_up</th>\n",
       "      <th>length</th>\n",
       "    </tr>\n",
       "  </thead>\n",
       "  <tbody>\n",
       "    <tr>\n",
       "      <th>0</th>\n",
       "      <td>True</td>\n",
       "      <td>171.81</td>\n",
       "      <td>104.86</td>\n",
       "      <td>104.95</td>\n",
       "      <td>4.52</td>\n",
       "      <td>2.89</td>\n",
       "      <td>112.83</td>\n",
       "    </tr>\n",
       "    <tr>\n",
       "      <th>1</th>\n",
       "      <td>True</td>\n",
       "      <td>171.46</td>\n",
       "      <td>103.36</td>\n",
       "      <td>103.66</td>\n",
       "      <td>3.77</td>\n",
       "      <td>2.99</td>\n",
       "      <td>113.09</td>\n",
       "    </tr>\n",
       "    <tr>\n",
       "      <th>2</th>\n",
       "      <td>True</td>\n",
       "      <td>172.69</td>\n",
       "      <td>104.48</td>\n",
       "      <td>103.50</td>\n",
       "      <td>4.40</td>\n",
       "      <td>2.94</td>\n",
       "      <td>113.16</td>\n",
       "    </tr>\n",
       "    <tr>\n",
       "      <th>3</th>\n",
       "      <td>True</td>\n",
       "      <td>171.36</td>\n",
       "      <td>103.91</td>\n",
       "      <td>103.94</td>\n",
       "      <td>3.62</td>\n",
       "      <td>3.01</td>\n",
       "      <td>113.51</td>\n",
       "    </tr>\n",
       "    <tr>\n",
       "      <th>4</th>\n",
       "      <td>True</td>\n",
       "      <td>171.73</td>\n",
       "      <td>104.28</td>\n",
       "      <td>103.46</td>\n",
       "      <td>4.04</td>\n",
       "      <td>3.48</td>\n",
       "      <td>112.54</td>\n",
       "    </tr>\n",
       "    <tr>\n",
       "      <th>...</th>\n",
       "      <td>...</td>\n",
       "      <td>...</td>\n",
       "      <td>...</td>\n",
       "      <td>...</td>\n",
       "      <td>...</td>\n",
       "      <td>...</td>\n",
       "      <td>...</td>\n",
       "    </tr>\n",
       "    <tr>\n",
       "      <th>1495</th>\n",
       "      <td>False</td>\n",
       "      <td>171.75</td>\n",
       "      <td>104.38</td>\n",
       "      <td>104.17</td>\n",
       "      <td>4.42</td>\n",
       "      <td>3.09</td>\n",
       "      <td>111.28</td>\n",
       "    </tr>\n",
       "    <tr>\n",
       "      <th>1496</th>\n",
       "      <td>False</td>\n",
       "      <td>172.19</td>\n",
       "      <td>104.63</td>\n",
       "      <td>104.44</td>\n",
       "      <td>5.27</td>\n",
       "      <td>3.37</td>\n",
       "      <td>110.97</td>\n",
       "    </tr>\n",
       "    <tr>\n",
       "      <th>1497</th>\n",
       "      <td>False</td>\n",
       "      <td>171.80</td>\n",
       "      <td>104.01</td>\n",
       "      <td>104.12</td>\n",
       "      <td>5.51</td>\n",
       "      <td>3.36</td>\n",
       "      <td>111.95</td>\n",
       "    </tr>\n",
       "    <tr>\n",
       "      <th>1498</th>\n",
       "      <td>False</td>\n",
       "      <td>172.06</td>\n",
       "      <td>104.28</td>\n",
       "      <td>104.06</td>\n",
       "      <td>5.17</td>\n",
       "      <td>3.46</td>\n",
       "      <td>112.25</td>\n",
       "    </tr>\n",
       "    <tr>\n",
       "      <th>1499</th>\n",
       "      <td>False</td>\n",
       "      <td>171.47</td>\n",
       "      <td>104.15</td>\n",
       "      <td>103.82</td>\n",
       "      <td>4.63</td>\n",
       "      <td>3.37</td>\n",
       "      <td>112.07</td>\n",
       "    </tr>\n",
       "  </tbody>\n",
       "</table>\n",
       "<p>1500 rows × 7 columns</p>\n",
       "</div>"
      ],
      "text/plain": [
       "      is_genuine  diagonal  height_left  height_right  margin_low  margin_up  \\\n",
       "0           True    171.81       104.86        104.95        4.52       2.89   \n",
       "1           True    171.46       103.36        103.66        3.77       2.99   \n",
       "2           True    172.69       104.48        103.50        4.40       2.94   \n",
       "3           True    171.36       103.91        103.94        3.62       3.01   \n",
       "4           True    171.73       104.28        103.46        4.04       3.48   \n",
       "...          ...       ...          ...           ...         ...        ...   \n",
       "1495       False    171.75       104.38        104.17        4.42       3.09   \n",
       "1496       False    172.19       104.63        104.44        5.27       3.37   \n",
       "1497       False    171.80       104.01        104.12        5.51       3.36   \n",
       "1498       False    172.06       104.28        104.06        5.17       3.46   \n",
       "1499       False    171.47       104.15        103.82        4.63       3.37   \n",
       "\n",
       "      length  \n",
       "0     112.83  \n",
       "1     113.09  \n",
       "2     113.16  \n",
       "3     113.51  \n",
       "4     112.54  \n",
       "...      ...  \n",
       "1495  111.28  \n",
       "1496  110.97  \n",
       "1497  111.95  \n",
       "1498  112.25  \n",
       "1499  112.07  \n",
       "\n",
       "[1500 rows x 7 columns]"
      ]
     },
     "execution_count": 4,
     "metadata": {},
     "output_type": "execute_result"
    }
   ],
   "source": [
    "data"
   ]
  },
  {
   "cell_type": "code",
   "execution_count": 5,
   "id": "f06b6e05",
   "metadata": {},
   "outputs": [
    {
     "data": {
      "text/html": [
       "<div>\n",
       "<style scoped>\n",
       "    .dataframe tbody tr th:only-of-type {\n",
       "        vertical-align: middle;\n",
       "    }\n",
       "\n",
       "    .dataframe tbody tr th {\n",
       "        vertical-align: top;\n",
       "    }\n",
       "\n",
       "    .dataframe thead th {\n",
       "        text-align: right;\n",
       "    }\n",
       "</style>\n",
       "<table border=\"1\" class=\"dataframe\">\n",
       "  <thead>\n",
       "    <tr style=\"text-align: right;\">\n",
       "      <th></th>\n",
       "      <th>observations</th>\n",
       "      <th>variables</th>\n",
       "      <th>type</th>\n",
       "      <th>moyennes</th>\n",
       "      <th>medianes</th>\n",
       "      <th>ecart_types</th>\n",
       "      <th>min</th>\n",
       "      <th>max</th>\n",
       "      <th>nb_valeurs_manquantes</th>\n",
       "      <th>%_valeurs_manquantes</th>\n",
       "    </tr>\n",
       "  </thead>\n",
       "  <tbody>\n",
       "    <tr>\n",
       "      <th>is_genuine</th>\n",
       "      <td>1500</td>\n",
       "      <td>7</td>\n",
       "      <td>bool</td>\n",
       "      <td>0.666667</td>\n",
       "      <td>1.00</td>\n",
       "      <td>0.471562</td>\n",
       "      <td>False</td>\n",
       "      <td>True</td>\n",
       "      <td>0</td>\n",
       "      <td>0.00</td>\n",
       "    </tr>\n",
       "    <tr>\n",
       "      <th>diagonal</th>\n",
       "      <td>1500</td>\n",
       "      <td>7</td>\n",
       "      <td>float64</td>\n",
       "      <td>171.958440</td>\n",
       "      <td>171.96</td>\n",
       "      <td>0.305195</td>\n",
       "      <td>171.04</td>\n",
       "      <td>173.01</td>\n",
       "      <td>0</td>\n",
       "      <td>0.00</td>\n",
       "    </tr>\n",
       "    <tr>\n",
       "      <th>height_left</th>\n",
       "      <td>1500</td>\n",
       "      <td>7</td>\n",
       "      <td>float64</td>\n",
       "      <td>104.029533</td>\n",
       "      <td>104.04</td>\n",
       "      <td>0.299462</td>\n",
       "      <td>103.14</td>\n",
       "      <td>104.88</td>\n",
       "      <td>0</td>\n",
       "      <td>0.00</td>\n",
       "    </tr>\n",
       "    <tr>\n",
       "      <th>height_right</th>\n",
       "      <td>1500</td>\n",
       "      <td>7</td>\n",
       "      <td>float64</td>\n",
       "      <td>103.920307</td>\n",
       "      <td>103.92</td>\n",
       "      <td>0.325627</td>\n",
       "      <td>102.82</td>\n",
       "      <td>104.95</td>\n",
       "      <td>0</td>\n",
       "      <td>0.00</td>\n",
       "    </tr>\n",
       "    <tr>\n",
       "      <th>margin_low</th>\n",
       "      <td>1500</td>\n",
       "      <td>7</td>\n",
       "      <td>float64</td>\n",
       "      <td>4.485967</td>\n",
       "      <td>4.31</td>\n",
       "      <td>0.663813</td>\n",
       "      <td>2.98</td>\n",
       "      <td>6.9</td>\n",
       "      <td>37</td>\n",
       "      <td>2.47</td>\n",
       "    </tr>\n",
       "    <tr>\n",
       "      <th>margin_up</th>\n",
       "      <td>1500</td>\n",
       "      <td>7</td>\n",
       "      <td>float64</td>\n",
       "      <td>3.151473</td>\n",
       "      <td>3.14</td>\n",
       "      <td>0.231813</td>\n",
       "      <td>2.27</td>\n",
       "      <td>3.91</td>\n",
       "      <td>0</td>\n",
       "      <td>0.00</td>\n",
       "    </tr>\n",
       "    <tr>\n",
       "      <th>length</th>\n",
       "      <td>1500</td>\n",
       "      <td>7</td>\n",
       "      <td>float64</td>\n",
       "      <td>112.678500</td>\n",
       "      <td>112.96</td>\n",
       "      <td>0.872730</td>\n",
       "      <td>109.49</td>\n",
       "      <td>114.44</td>\n",
       "      <td>0</td>\n",
       "      <td>0.00</td>\n",
       "    </tr>\n",
       "  </tbody>\n",
       "</table>\n",
       "</div>"
      ],
      "text/plain": [
       "              observations  variables     type    moyennes  medianes  \\\n",
       "is_genuine            1500          7     bool    0.666667      1.00   \n",
       "diagonal              1500          7  float64  171.958440    171.96   \n",
       "height_left           1500          7  float64  104.029533    104.04   \n",
       "height_right          1500          7  float64  103.920307    103.92   \n",
       "margin_low            1500          7  float64    4.485967      4.31   \n",
       "margin_up             1500          7  float64    3.151473      3.14   \n",
       "length                1500          7  float64  112.678500    112.96   \n",
       "\n",
       "              ecart_types     min     max  nb_valeurs_manquantes  \\\n",
       "is_genuine       0.471562   False    True                      0   \n",
       "diagonal         0.305195  171.04  173.01                      0   \n",
       "height_left      0.299462  103.14  104.88                      0   \n",
       "height_right     0.325627  102.82  104.95                      0   \n",
       "margin_low       0.663813    2.98     6.9                     37   \n",
       "margin_up        0.231813    2.27    3.91                      0   \n",
       "length           0.872730  109.49  114.44                      0   \n",
       "\n",
       "              %_valeurs_manquantes  \n",
       "is_genuine                    0.00  \n",
       "diagonal                      0.00  \n",
       "height_left                   0.00  \n",
       "height_right                  0.00  \n",
       "margin_low                    2.47  \n",
       "margin_up                     0.00  \n",
       "length                        0.00  "
      ]
     },
     "execution_count": 5,
     "metadata": {},
     "output_type": "execute_result"
    }
   ],
   "source": [
    "# On réalise une rapide analyse de nos données. On constate qu'il y a des valeurs manquantes dans la colonnes margin_low\n",
    "my_first_analyse(data, graphique=False)"
   ]
  },
  {
   "cell_type": "code",
   "execution_count": 6,
   "id": "73384001",
   "metadata": {},
   "outputs": [
    {
     "name": "stdout",
     "output_type": "stream",
     "text": [
      "Le nombre de vrai billets est de : 1000\n",
      "Le nombre de faux billets est de : 500\n"
     ]
    }
   ],
   "source": [
    "# Vérification du nombre de faux billets\n",
    "print(\"Le nombre de vrai billets est de :\",data.loc[data[\"is_genuine\"]==True][\"is_genuine\"].count())\n",
    "print(\"Le nombre de faux billets est de :\",data.loc[data[\"is_genuine\"]==False][\"is_genuine\"].count())"
   ]
  },
  {
   "cell_type": "code",
   "execution_count": 7,
   "id": "db3ae28c",
   "metadata": {},
   "outputs": [
    {
     "name": "stdout",
     "output_type": "stream",
     "text": [
      "Information concernant les vrais billets :\n"
     ]
    },
    {
     "data": {
      "text/html": [
       "<div>\n",
       "<style scoped>\n",
       "    .dataframe tbody tr th:only-of-type {\n",
       "        vertical-align: middle;\n",
       "    }\n",
       "\n",
       "    .dataframe tbody tr th {\n",
       "        vertical-align: top;\n",
       "    }\n",
       "\n",
       "    .dataframe thead th {\n",
       "        text-align: right;\n",
       "    }\n",
       "</style>\n",
       "<table border=\"1\" class=\"dataframe\">\n",
       "  <thead>\n",
       "    <tr style=\"text-align: right;\">\n",
       "      <th></th>\n",
       "      <th>diagonal</th>\n",
       "      <th>height_left</th>\n",
       "      <th>height_right</th>\n",
       "      <th>margin_low</th>\n",
       "      <th>margin_up</th>\n",
       "      <th>length</th>\n",
       "    </tr>\n",
       "  </thead>\n",
       "  <tbody>\n",
       "    <tr>\n",
       "      <th>count</th>\n",
       "      <td>1000.000000</td>\n",
       "      <td>1000.000000</td>\n",
       "      <td>1000.00000</td>\n",
       "      <td>971.000000</td>\n",
       "      <td>1000.00000</td>\n",
       "      <td>1000.000000</td>\n",
       "    </tr>\n",
       "    <tr>\n",
       "      <th>mean</th>\n",
       "      <td>171.987080</td>\n",
       "      <td>103.949130</td>\n",
       "      <td>103.80865</td>\n",
       "      <td>4.116097</td>\n",
       "      <td>3.05213</td>\n",
       "      <td>113.202430</td>\n",
       "    </tr>\n",
       "    <tr>\n",
       "      <th>std</th>\n",
       "      <td>0.300441</td>\n",
       "      <td>0.300231</td>\n",
       "      <td>0.29157</td>\n",
       "      <td>0.319124</td>\n",
       "      <td>0.18634</td>\n",
       "      <td>0.359552</td>\n",
       "    </tr>\n",
       "    <tr>\n",
       "      <th>min</th>\n",
       "      <td>171.040000</td>\n",
       "      <td>103.140000</td>\n",
       "      <td>102.82000</td>\n",
       "      <td>2.980000</td>\n",
       "      <td>2.27000</td>\n",
       "      <td>111.760000</td>\n",
       "    </tr>\n",
       "    <tr>\n",
       "      <th>25%</th>\n",
       "      <td>171.790000</td>\n",
       "      <td>103.740000</td>\n",
       "      <td>103.61000</td>\n",
       "      <td>3.905000</td>\n",
       "      <td>2.93000</td>\n",
       "      <td>112.950000</td>\n",
       "    </tr>\n",
       "    <tr>\n",
       "      <th>50%</th>\n",
       "      <td>171.990000</td>\n",
       "      <td>103.950000</td>\n",
       "      <td>103.81000</td>\n",
       "      <td>4.110000</td>\n",
       "      <td>3.05000</td>\n",
       "      <td>113.205000</td>\n",
       "    </tr>\n",
       "    <tr>\n",
       "      <th>75%</th>\n",
       "      <td>172.200000</td>\n",
       "      <td>104.140000</td>\n",
       "      <td>104.00000</td>\n",
       "      <td>4.340000</td>\n",
       "      <td>3.18000</td>\n",
       "      <td>113.460000</td>\n",
       "    </tr>\n",
       "    <tr>\n",
       "      <th>max</th>\n",
       "      <td>172.920000</td>\n",
       "      <td>104.860000</td>\n",
       "      <td>104.95000</td>\n",
       "      <td>5.040000</td>\n",
       "      <td>3.74000</td>\n",
       "      <td>114.440000</td>\n",
       "    </tr>\n",
       "  </tbody>\n",
       "</table>\n",
       "</div>"
      ],
      "text/plain": [
       "          diagonal  height_left  height_right  margin_low   margin_up  \\\n",
       "count  1000.000000  1000.000000    1000.00000  971.000000  1000.00000   \n",
       "mean    171.987080   103.949130     103.80865    4.116097     3.05213   \n",
       "std       0.300441     0.300231       0.29157    0.319124     0.18634   \n",
       "min     171.040000   103.140000     102.82000    2.980000     2.27000   \n",
       "25%     171.790000   103.740000     103.61000    3.905000     2.93000   \n",
       "50%     171.990000   103.950000     103.81000    4.110000     3.05000   \n",
       "75%     172.200000   104.140000     104.00000    4.340000     3.18000   \n",
       "max     172.920000   104.860000     104.95000    5.040000     3.74000   \n",
       "\n",
       "            length  \n",
       "count  1000.000000  \n",
       "mean    113.202430  \n",
       "std       0.359552  \n",
       "min     111.760000  \n",
       "25%     112.950000  \n",
       "50%     113.205000  \n",
       "75%     113.460000  \n",
       "max     114.440000  "
      ]
     },
     "metadata": {},
     "output_type": "display_data"
    },
    {
     "name": "stdout",
     "output_type": "stream",
     "text": [
      "Information concernant les faux billets :\n"
     ]
    },
    {
     "data": {
      "text/html": [
       "<div>\n",
       "<style scoped>\n",
       "    .dataframe tbody tr th:only-of-type {\n",
       "        vertical-align: middle;\n",
       "    }\n",
       "\n",
       "    .dataframe tbody tr th {\n",
       "        vertical-align: top;\n",
       "    }\n",
       "\n",
       "    .dataframe thead th {\n",
       "        text-align: right;\n",
       "    }\n",
       "</style>\n",
       "<table border=\"1\" class=\"dataframe\">\n",
       "  <thead>\n",
       "    <tr style=\"text-align: right;\">\n",
       "      <th></th>\n",
       "      <th>diagonal</th>\n",
       "      <th>height_left</th>\n",
       "      <th>height_right</th>\n",
       "      <th>margin_low</th>\n",
       "      <th>margin_up</th>\n",
       "      <th>length</th>\n",
       "    </tr>\n",
       "  </thead>\n",
       "  <tbody>\n",
       "    <tr>\n",
       "      <th>count</th>\n",
       "      <td>500.000000</td>\n",
       "      <td>500.000000</td>\n",
       "      <td>500.000000</td>\n",
       "      <td>492.000000</td>\n",
       "      <td>500.000000</td>\n",
       "      <td>500.000000</td>\n",
       "    </tr>\n",
       "    <tr>\n",
       "      <th>mean</th>\n",
       "      <td>171.901160</td>\n",
       "      <td>104.190340</td>\n",
       "      <td>104.143620</td>\n",
       "      <td>5.215935</td>\n",
       "      <td>3.350160</td>\n",
       "      <td>111.630640</td>\n",
       "    </tr>\n",
       "    <tr>\n",
       "      <th>std</th>\n",
       "      <td>0.306861</td>\n",
       "      <td>0.223758</td>\n",
       "      <td>0.270878</td>\n",
       "      <td>0.553531</td>\n",
       "      <td>0.180498</td>\n",
       "      <td>0.615543</td>\n",
       "    </tr>\n",
       "    <tr>\n",
       "      <th>min</th>\n",
       "      <td>171.040000</td>\n",
       "      <td>103.510000</td>\n",
       "      <td>103.430000</td>\n",
       "      <td>3.820000</td>\n",
       "      <td>2.920000</td>\n",
       "      <td>109.490000</td>\n",
       "    </tr>\n",
       "    <tr>\n",
       "      <th>25%</th>\n",
       "      <td>171.690000</td>\n",
       "      <td>104.040000</td>\n",
       "      <td>103.950000</td>\n",
       "      <td>4.840000</td>\n",
       "      <td>3.220000</td>\n",
       "      <td>111.200000</td>\n",
       "    </tr>\n",
       "    <tr>\n",
       "      <th>50%</th>\n",
       "      <td>171.910000</td>\n",
       "      <td>104.180000</td>\n",
       "      <td>104.160000</td>\n",
       "      <td>5.190000</td>\n",
       "      <td>3.350000</td>\n",
       "      <td>111.630000</td>\n",
       "    </tr>\n",
       "    <tr>\n",
       "      <th>75%</th>\n",
       "      <td>172.092500</td>\n",
       "      <td>104.332500</td>\n",
       "      <td>104.320000</td>\n",
       "      <td>5.592500</td>\n",
       "      <td>3.472500</td>\n",
       "      <td>112.030000</td>\n",
       "    </tr>\n",
       "    <tr>\n",
       "      <th>max</th>\n",
       "      <td>173.010000</td>\n",
       "      <td>104.880000</td>\n",
       "      <td>104.950000</td>\n",
       "      <td>6.900000</td>\n",
       "      <td>3.910000</td>\n",
       "      <td>113.850000</td>\n",
       "    </tr>\n",
       "  </tbody>\n",
       "</table>\n",
       "</div>"
      ],
      "text/plain": [
       "         diagonal  height_left  height_right  margin_low   margin_up  \\\n",
       "count  500.000000   500.000000    500.000000  492.000000  500.000000   \n",
       "mean   171.901160   104.190340    104.143620    5.215935    3.350160   \n",
       "std      0.306861     0.223758      0.270878    0.553531    0.180498   \n",
       "min    171.040000   103.510000    103.430000    3.820000    2.920000   \n",
       "25%    171.690000   104.040000    103.950000    4.840000    3.220000   \n",
       "50%    171.910000   104.180000    104.160000    5.190000    3.350000   \n",
       "75%    172.092500   104.332500    104.320000    5.592500    3.472500   \n",
       "max    173.010000   104.880000    104.950000    6.900000    3.910000   \n",
       "\n",
       "           length  \n",
       "count  500.000000  \n",
       "mean   111.630640  \n",
       "std      0.615543  \n",
       "min    109.490000  \n",
       "25%    111.200000  \n",
       "50%    111.630000  \n",
       "75%    112.030000  \n",
       "max    113.850000  "
      ]
     },
     "metadata": {},
     "output_type": "display_data"
    }
   ],
   "source": [
    "print(\"Information concernant les vrais billets :\")\n",
    "my_exploration(data.loc[data[\"is_genuine\"]==True])\n",
    "print(\"Information concernant les faux billets :\")\n",
    "my_exploration(data.loc[data[\"is_genuine\"]==False])"
   ]
  },
  {
   "cell_type": "code",
   "execution_count": 8,
   "id": "3642d0e8",
   "metadata": {},
   "outputs": [
    {
     "data": {
      "text/html": [
       "<div>\n",
       "<style scoped>\n",
       "    .dataframe tbody tr th:only-of-type {\n",
       "        vertical-align: middle;\n",
       "    }\n",
       "\n",
       "    .dataframe tbody tr th {\n",
       "        vertical-align: top;\n",
       "    }\n",
       "\n",
       "    .dataframe thead th {\n",
       "        text-align: right;\n",
       "    }\n",
       "</style>\n",
       "<table border=\"1\" class=\"dataframe\">\n",
       "  <thead>\n",
       "    <tr style=\"text-align: right;\">\n",
       "      <th></th>\n",
       "      <th>diagonale</th>\n",
       "      <th>height_left</th>\n",
       "      <th>height_right</th>\n",
       "      <th>margin_low</th>\n",
       "      <th>margin_up</th>\n",
       "      <th>length</th>\n",
       "    </tr>\n",
       "  </thead>\n",
       "  <tbody>\n",
       "    <tr>\n",
       "      <th>Moyenne des écrats en %</th>\n",
       "      <td>0.049957</td>\n",
       "      <td>-0.232046</td>\n",
       "      <td>-0.32268</td>\n",
       "      <td>-26.720415</td>\n",
       "      <td>-9.764656</td>\n",
       "      <td>1.388477</td>\n",
       "    </tr>\n",
       "  </tbody>\n",
       "</table>\n",
       "</div>"
      ],
      "text/plain": [
       "                         diagonale  height_left  height_right  margin_low  \\\n",
       "Moyenne des écrats en %   0.049957    -0.232046      -0.32268  -26.720415   \n",
       "\n",
       "                         margin_up    length  \n",
       "Moyenne des écrats en %  -9.764656  1.388477  "
      ]
     },
     "execution_count": 8,
     "metadata": {},
     "output_type": "execute_result"
    }
   ],
   "source": [
    "# On calcule la différence de diagonale entre les vrais et les faux billets\n",
    "diff_diag = (((data.loc[data[\"is_genuine\"]==True][\"diagonal\"].mean())-(data.loc[data[\"is_genuine\"]==False][\"diagonal\"].mean()))/(data.loc[data[\"is_genuine\"]==True][\"diagonal\"].mean()))*100\n",
    "\n",
    "# On calcule la différence de hauteur entre les vrais et les faux billets\n",
    "diff_h_left = (((data.loc[data[\"is_genuine\"]==True][\"height_left\"].mean())-(data.loc[data[\"is_genuine\"]==False][\"height_left\"].mean()))/(data.loc[data[\"is_genuine\"]==True][\"height_left\"].mean()))*100\n",
    "diff_h_right = (((data.loc[data[\"is_genuine\"]==True][\"height_right\"].mean())-(data.loc[data[\"is_genuine\"]==False][\"height_right\"].mean()))/(data.loc[data[\"is_genuine\"]==True][\"height_right\"].mean()))*100\n",
    "\n",
    "# On calcule la différence de marge entre les vrais et les faux billets\n",
    "diff_m_low = (((data.loc[data[\"is_genuine\"]==True][\"margin_low\"].mean())-(data.loc[data[\"is_genuine\"]==False][\"margin_low\"].mean()))/(data.loc[data[\"is_genuine\"]==True][\"margin_low\"].mean()))*100\n",
    "diff_m_up = (((data.loc[data[\"is_genuine\"]==True][\"margin_up\"].mean())-(data.loc[data[\"is_genuine\"]==False][\"margin_up\"].mean()))/(data.loc[data[\"is_genuine\"]==True][\"margin_up\"].mean()))*100\n",
    "\n",
    "# On calcule la différence de longeur entre les vrais et les faux billets\n",
    "diff_length = (((data.loc[data[\"is_genuine\"]==True][\"length\"].mean())-(data.loc[data[\"is_genuine\"]==False][\"length\"].mean()))/(data.loc[data[\"is_genuine\"]==True][\"length\"].mean()))*100\n",
    "\n",
    "# Affichage des résultats sous forme de Tableau\n",
    "pd.DataFrame(index=[\"Moyenne des écrats en %\"],columns=[\"diagonale\",\"height_left\",\"height_right\",\"margin_low\",\"margin_up\",\"length\"],data=[[diff_diag, diff_h_left, diff_h_right, diff_m_low, diff_m_up, diff_length]])"
   ]
  },
  {
   "cell_type": "markdown",
   "id": "eecd5ce8",
   "metadata": {},
   "source": [
    "En comparant les données ci-dessus, on constate que : \n",
    "- Les vrais billets ont une diagonale légèrement plus importante\n",
    "- Les faux billets ont hauteur et des marges lègèrement plus importante\n",
    "- Les faux billets sont plus petit que les vrais billets."
   ]
  },
  {
   "cell_type": "markdown",
   "id": "49a18ca5",
   "metadata": {},
   "source": [
    "## Visualisation des données"
   ]
  },
  {
   "cell_type": "code",
   "execution_count": null,
   "id": "7930ae08",
   "metadata": {},
   "outputs": [],
   "source": [
    "sns.pairplot(data, hue=\"is_genuine\")"
   ]
  },
  {
   "cell_type": "code",
   "execution_count": null,
   "id": "15ef99d3",
   "metadata": {},
   "outputs": [],
   "source": [
    "my_boxplots(data)"
   ]
  },
  {
   "cell_type": "code",
   "execution_count": null,
   "id": "31f89503",
   "metadata": {},
   "outputs": [],
   "source": [
    "my_corr_heatmap(data)"
   ]
  },
  {
   "cell_type": "markdown",
   "id": "fdea3bf3",
   "metadata": {},
   "source": [
    "# Nettoyage des données"
   ]
  },
  {
   "cell_type": "code",
   "execution_count": null,
   "id": "6208cf1c",
   "metadata": {},
   "outputs": [],
   "source": [
    "# Commençons par changer le bool par du binaire pour la colonne is_genuine\n",
    "data[\"is_genuine\"].replace([True, False], [1,0], inplace=True)"
   ]
  },
  {
   "cell_type": "markdown",
   "id": "071fae6d",
   "metadata": {},
   "source": [
    "On va maintenant s'occuper des valeurs manquantes. En observant le pairplot précédent, on constate qu'il semble exister une relation entre la longeur et le margin_low. Plusieurs méthodes s'offrent à nous : \n",
    "- Supprimer ces individus (car ne représente (que) 2,47% des valeurs totales)\n",
    "- Appliquer la moyenne \n",
    "- Appliquier la médianne\n",
    "- Utiliser une methode me ML pour reconstituer ces données\n",
    "\n",
    "Pour ce cas pratique, nous allons opter pour la dernière méthode. Maintenant, il ne nous reste plus qu'à trouver quelle méthode utiliser. "
   ]
  },
  {
   "cell_type": "code",
   "execution_count": null,
   "id": "23cb80d4",
   "metadata": {
    "scrolled": false
   },
   "outputs": [],
   "source": [
    "sns.pairplot(data, hue=\"is_genuine\")\n",
    "plt.show()"
   ]
  },
  {
   "cell_type": "markdown",
   "id": "f516ae75",
   "metadata": {},
   "source": [
    "## Vérification des valeurs abérantess"
   ]
  },
  {
   "cell_type": "markdown",
   "id": "02344b4f",
   "metadata": {},
   "source": [
    "Nous allons vérifier les données abérantes"
   ]
  },
  {
   "cell_type": "code",
   "execution_count": null,
   "id": "7765b3e3",
   "metadata": {},
   "outputs": [],
   "source": [
    "my_outliers_zscore(data)"
   ]
  },
  {
   "cell_type": "markdown",
   "id": "aea055b6",
   "metadata": {},
   "source": [
    "Les données aberrantes ont une influence fortes sur les différentes modele ML que nous allons mettre en place. De ce fait, nous pourrions rétiere ces valeurs. \n",
    "Cependant, il est interessant de laisser les faux billets dans le DataSet afin de prendre en compte ces dimentions dans la détection de faux billets. Nous allons simplement retirer les vrais billets des outliers"
   ]
  },
  {
   "cell_type": "code",
   "execution_count": null,
   "id": "44f9e3ea",
   "metadata": {},
   "outputs": [],
   "source": [
    "# On affecte les outliers à une variable\n",
    "outliers = my_outliers_zscore(data)"
   ]
  },
  {
   "cell_type": "code",
   "execution_count": null,
   "id": "a23ff6b0",
   "metadata": {},
   "outputs": [],
   "source": [
    "outliers = outliers.loc[outliers[\"is_genuine\"]==False]"
   ]
  },
  {
   "cell_type": "code",
   "execution_count": null,
   "id": "9c77bd28",
   "metadata": {},
   "outputs": [],
   "source": [
    "# On réalise une petite analyse des données outliers\n",
    "my_first_analyse(outliers)"
   ]
  },
  {
   "cell_type": "code",
   "execution_count": null,
   "id": "e218c210",
   "metadata": {},
   "outputs": [],
   "source": [
    "# On créé une nouvelle table sans les outliers\n",
    "data = data.drop(outliers.index, axis=0)"
   ]
  },
  {
   "cell_type": "code",
   "execution_count": null,
   "id": "1110683c",
   "metadata": {},
   "outputs": [],
   "source": [
    "data"
   ]
  },
  {
   "cell_type": "markdown",
   "id": "6a312ad6",
   "metadata": {},
   "source": [
    "## Compléter les valeurs manquantes"
   ]
  },
  {
   "cell_type": "markdown",
   "id": "b9ea062c",
   "metadata": {},
   "source": [
    "### Régression Linéaire"
   ]
  },
  {
   "cell_type": "markdown",
   "id": "17301b64",
   "metadata": {},
   "source": [
    "On a constaté durant l'exploration des données que nous avions des valeurs manquantes dans la colonne \"Margin_low\".\n",
    "Nous souhaitons pouvoir \"prédire\" ces données à l'aide d'un model de Machine Learning. Dans notre cas, nous allons tester le model de <b>Régression Linéaire</b>."
   ]
  },
  {
   "cell_type": "code",
   "execution_count": null,
   "id": "5c51ae17",
   "metadata": {},
   "outputs": [],
   "source": [
    "# On importe LinearRegression()\n",
    "# Avec Sklearn\n",
    "from sklearn.linear_model import LinearRegression\n",
    "\n",
    "# Avec StatModel\n",
    "import statsmodels.api as sm\n",
    "import statsmodels.formula.api as smf\n",
    "\n",
    "from sklearn.model_selection import train_test_split"
   ]
  },
  {
   "cell_type": "markdown",
   "id": "7188731a",
   "metadata": {},
   "source": [
    "On va commencer par séparer les individus qui ont une valeur manquante dans \"Margin_low\". Cela correspond à 37 individus. "
   ]
  },
  {
   "cell_type": "markdown",
   "id": "ac72c337",
   "metadata": {},
   "source": [
    "----"
   ]
  },
  {
   "cell_type": "markdown",
   "id": "222a001b",
   "metadata": {},
   "source": [
    "###### On va scaler nos données pour le test"
   ]
  },
  {
   "cell_type": "code",
   "execution_count": null,
   "id": "df06c7ff",
   "metadata": {},
   "outputs": [],
   "source": [
    "data_base = data"
   ]
  },
  {
   "cell_type": "code",
   "execution_count": null,
   "id": "d68181b6",
   "metadata": {},
   "outputs": [],
   "source": [
    "#data = my_data_scaler(data, columns=['margin_low','diagonal','height_left','height_right','margin_up','length'] ,method=\"standard\")"
   ]
  },
  {
   "cell_type": "markdown",
   "id": "12ff1c5e",
   "metadata": {},
   "source": [
    "___"
   ]
  },
  {
   "cell_type": "code",
   "execution_count": null,
   "id": "3282c711",
   "metadata": {},
   "outputs": [],
   "source": [
    "# On créé un Dataset avec les individus qui ont un marhin_low = NaN\n",
    "data_vide = data.loc[data[\"margin_low\"].isna()]\n",
    "\n",
    "# On créé un Dataset sans les valeurs manquantes\n",
    "data_non_vide = data.dropna()"
   ]
  },
  {
   "cell_type": "markdown",
   "id": "b7d0903f",
   "metadata": {},
   "source": [
    "#### Avec StatModels"
   ]
  },
  {
   "cell_type": "markdown",
   "id": "0a4ae8ee",
   "metadata": {},
   "source": [
    "###### Backward Regression"
   ]
  },
  {
   "cell_type": "code",
   "execution_count": null,
   "id": "fa4ffc06",
   "metadata": {},
   "outputs": [],
   "source": [
    "# On utilise la fonction my_backward_selected afin de trouvers les varibles descriptives les plus pertinentes\n",
    "columns = ['margin_low','diagonal','is_genuine','height_left','height_right','margin_up','length']\n",
    "reg_backward = my_backward_selected(data_non_vide[columns], 'margin_low')"
   ]
  },
  {
   "cell_type": "markdown",
   "id": "86191e5f",
   "metadata": {},
   "source": [
    "Les variables descriptives interessantes sont : \n",
    "- is_genuine\n",
    "- margin_up"
   ]
  },
  {
   "cell_type": "code",
   "execution_count": null,
   "id": "d9143dde",
   "metadata": {},
   "outputs": [],
   "source": [
    "# On définit nos valeurs X et y\n",
    "X = data_non_vide.drop(['margin_low','diagonal','height_left','height_right','length'], axis=1)\n",
    "X = sm.add_constant(X)\n",
    "y = data_non_vide[\"margin_low\"].values.reshape(len(data_non_vide),1)"
   ]
  },
  {
   "cell_type": "code",
   "execution_count": null,
   "id": "3d15048d",
   "metadata": {},
   "outputs": [],
   "source": [
    "X"
   ]
  },
  {
   "cell_type": "code",
   "execution_count": null,
   "id": "c6a3cbb7",
   "metadata": {},
   "outputs": [],
   "source": [
    "# On split notre jeu de donnée\n",
    "X_train, X_test, y_train, y_test = train_test_split(X, y, test_size=0.2, random_state=0)"
   ]
  },
  {
   "cell_type": "code",
   "execution_count": null,
   "id": "f6d2c624",
   "metadata": {
    "scrolled": false
   },
   "outputs": [],
   "source": [
    "model_01 = sm.OLS(y_train, X_train)\n",
    "resultat = model_01.fit()\n",
    "\n",
    "y_pred = resultat.predict(X_train)\n",
    "\n",
    "print(resultat.summary())"
   ]
  },
  {
   "cell_type": "markdown",
   "id": "0ff018dc",
   "metadata": {},
   "source": [
    "#### Vérification des hypothèses"
   ]
  },
  {
   "cell_type": "markdown",
   "id": "d3a11035",
   "metadata": {},
   "source": [
    "Avant de valider l'utilisation de la régression linéaire, nous devons vérifier plusieurs hypothèses afin de s'assurer que nous pouvons appliquer cette régression. Voici les hypothèses à vérifier : \n",
    "- <b>Linéarité</b> : L'hypothèse de base de la régression linéaire est que la relation entre les variables indépendantes et dépendantes est linéaire.\n",
    "- <b>Indépendance</b> : Les observations doivent être indépendantes les unes des autres. En d'autres termes, il ne devrait pas y avoir de corrélation ou de dépendance entre les observations.\n",
    "- <b>Homoscédasticité</b> : L'homoscédasticité signifie que la variance des erreurs résiduelles est constante à tous les niveaux de la variable prédite.\n",
    "- <b>Normalité</b> : Les erreurs résiduelles doivent être distribuées normalement. Cela signifie que les résidus doivent suivre une distribution normale avec une moyenne de zéro."
   ]
  },
  {
   "cell_type": "markdown",
   "id": "68a5c209",
   "metadata": {},
   "source": [
    "##### Linéarité"
   ]
  },
  {
   "cell_type": "code",
   "execution_count": null,
   "id": "877f284f",
   "metadata": {},
   "outputs": [],
   "source": [
    "fig, axes = plt.subplots(nrows=2, ncols=3, figsize=(15, 10))\n",
    "\n",
    "for i, ax in enumerate(axes.flatten()):\n",
    "    sns.distplot(data.iloc[:, i+1], ax=ax)\n",
    "\n",
    "plt.tight_layout()\n",
    "plt.show()"
   ]
  },
  {
   "cell_type": "markdown",
   "id": "ce5d57a3",
   "metadata": {},
   "source": [
    "<b>Graphique : Résidus en fonction des valeurs ajustées</b>\n",
    "\n",
    "On trace les résidus en fonction des valeurs ajustées (les Ŷ). Le tracé rouge doit être approximativement horizontal s’il y a bien une relation linéaire. Ce tracé est un ajustement du nuage de points qui utilise une méthode de régression non-linéaire appelée régression locale ou LOESS. "
   ]
  },
  {
   "cell_type": "code",
   "execution_count": null,
   "id": "6d8e1efa",
   "metadata": {},
   "outputs": [],
   "source": [
    "from statsmodels.nonparametric.smoothers_lowess import lowess\n",
    "\n",
    "# Calcul des résidus\n",
    "residuals = resultat.resid\n",
    "\n",
    "# Calcul du LOESS\n",
    "smoothed = lowess(residuals, y_pred)\n",
    "\n",
    "# Tracé des résidus en fonction des valeurs ajustées\n",
    "plt.scatter(y_pred, residuals, color='b', alpha=0.6, label='Résidus')\n",
    "plt.plot(smoothed[:, 0], smoothed[:, 1], color='r', label='LOESS')\n",
    "plt.axhline(y=0, color='k', linestyle='--')\n",
    "plt.xlabel('Valeurs ajustées')\n",
    "plt.ylabel('Résidus')\n",
    "plt.legend()\n",
    "plt.title('Résidus en fonction des valeurs ajustées')\n",
    "plt.show()"
   ]
  },
  {
   "cell_type": "markdown",
   "id": "537f06df",
   "metadata": {},
   "source": [
    "Le tracé rouge semble relativement horizontal. Nous allons pouvoir vérifier cela par le <b>Test de Rainbow</b>"
   ]
  },
  {
   "cell_type": "code",
   "execution_count": null,
   "id": "819e2336",
   "metadata": {},
   "outputs": [],
   "source": [
    "from statsmodels.stats.diagnostic import linear_rainbow"
   ]
  },
  {
   "cell_type": "code",
   "execution_count": null,
   "id": "4c66c79e",
   "metadata": {},
   "outputs": [],
   "source": [
    "# Calcul du test de linéarité de Rainbow\n",
    "rainbow_statistic, rainbow_p_value = linear_rainbow(resultat)\n",
    "\n",
    "print(\"Rainbow Test Statistic:\", rainbow_statistic)\n",
    "print(\"Rainbow Test p-value:\", rainbow_p_value)"
   ]
  },
  {
   "cell_type": "markdown",
   "id": "58d8e9c1",
   "metadata": {},
   "source": [
    "Le Rainbow test nous indique un p-value inférieur à 0.05. En d'autres termes, nous pouvons rejeter l'hypothèse nulle de linéarité. Le test a détecté suffisamment d'évidence pour conclure que votre modèle de régression linéaire représente correctement une relation non-linéaire entre les variables indépendantes et la variable dépendante."
   ]
  },
  {
   "cell_type": "markdown",
   "id": "b9b2b46b",
   "metadata": {},
   "source": [
    "------"
   ]
  },
  {
   "cell_type": "markdown",
   "id": "92267705",
   "metadata": {},
   "source": [
    "##### Indépendance des résidus "
   ]
  },
  {
   "cell_type": "code",
   "execution_count": null,
   "id": "63c607b0",
   "metadata": {},
   "outputs": [],
   "source": [
    "import statsmodels.graphics.tsaplots as tsaplots"
   ]
  },
  {
   "cell_type": "code",
   "execution_count": null,
   "id": "784ce88c",
   "metadata": {},
   "outputs": [],
   "source": [
    "# Tracé du corrélogramme\n",
    "fig, ax = plt.subplots(figsize=(10, 4))\n",
    "tsaplots.plot_acf(residuals, ax=ax, lags=30)\n",
    "ax.set_xlabel('Lags')\n",
    "ax.set_ylabel('Autocorrelation')\n",
    "ax.set_title('Corrélogramme des résidus')\n",
    "plt.show()"
   ]
  },
  {
   "cell_type": "code",
   "execution_count": null,
   "id": "e421d6ac",
   "metadata": {},
   "outputs": [],
   "source": [
    "residuals"
   ]
  },
  {
   "cell_type": "markdown",
   "id": "e013cc14",
   "metadata": {},
   "source": [
    "Le graphique affiche les barres de corrélation pour chaque retard (lag), ainsi que des intervalles de confiance en pointillés bleus pour évaluer la significativité des coefficients de corrélation. Si une barre dépasse les intervalles de confiance, cela indique une corrélation significative et suggère la présence d'autocorrélation dans les résidus.<br/><br/>\n",
    "Dans notre cas, nous pouvons constater qu'il existe plusieurs corrélation significative d'ordre 1 qui suggère la présence d'autocorrélation dans les résidus. Ainsi , les résidus ne sont pas indépendants. \n",
    "\n",
    "Vérifier l'autocorélation "
   ]
  },
  {
   "cell_type": "markdown",
   "id": "d86f2eaa",
   "metadata": {},
   "source": [
    "<b>Test de Ljung-Box</b>"
   ]
  },
  {
   "cell_type": "code",
   "execution_count": null,
   "id": "d7d27269",
   "metadata": {},
   "outputs": [],
   "source": [
    "from statsmodels.stats.diagnostic import acorr_ljungbox"
   ]
  },
  {
   "cell_type": "code",
   "execution_count": null,
   "id": "3ffaeea4",
   "metadata": {},
   "outputs": [],
   "source": [
    "# Test de Ljung-Box\n",
    "lb_test = acorr_ljungbox(residuals, lags=30)\n",
    "\n",
    "# Récupération des statistiques de test (Q) et des p-values\n",
    "lb_statistic = lb_test[\"lb_stat\"]\n",
    "lb_pvalue = lb_test[\"lb_pvalue\"]\n",
    "\n",
    "# Affichage des résultats\n",
    "for lag, statistic, pvalue in zip(range(1, len(lb_statistic) + 1), lb_statistic, lb_pvalue):\n",
    "    print(f\"Lag {lag}: Statistique du test de Ljung-Box = {statistic}, p-value = {pvalue}\")"
   ]
  },
  {
   "cell_type": "markdown",
   "id": "cc60b46f",
   "metadata": {},
   "source": [
    "Dans notre cas, les p-values pour tous les lags sont supérieures à 0,05, ce qui indique qu'il n'y a pas de corrélation significative entre les résidus aux différents décalages. Cela suggère que les résidus sont indépendants et qu'il n'y a pas d'autocorrélation systématique dans vos données."
   ]
  },
  {
   "cell_type": "markdown",
   "id": "039effa7",
   "metadata": {},
   "source": [
    "<b>Test de Durbin-Watson</b>"
   ]
  },
  {
   "cell_type": "code",
   "execution_count": null,
   "id": "aceaa10f",
   "metadata": {},
   "outputs": [],
   "source": [
    "dw_test = sm.stats.stattools.durbin_watson(residuals)\n",
    "\n",
    "# Affichage du résultat\n",
    "print(\"Statistique de Durbin-Watson :\", dw_test)"
   ]
  },
  {
   "cell_type": "markdown",
   "id": "5e252e5f",
   "metadata": {},
   "source": [
    "- <span style=\"color:green\">Une valeur proche de 2 indique une absence ou une autocorrélation faible des résidus.</span>\n",
    "- Une valeur inférieure à 2 suggère une autocorrélation positive (corrélation positive entre les résidus).\n",
    "- Une valeur supérieure à 2 suggère une autocorrélation négative (corrélation négative entre les résidus)."
   ]
  },
  {
   "cell_type": "markdown",
   "id": "f42a852d",
   "metadata": {},
   "source": [
    "-------"
   ]
  },
  {
   "cell_type": "markdown",
   "id": "c79e5531",
   "metadata": {},
   "source": [
    "##### Homogénéité des résidus"
   ]
  },
  {
   "cell_type": "markdown",
   "id": "1a5eea7b",
   "metadata": {},
   "source": [
    "Graphique : Scale-Location\n",
    "\n",
    "“scale – Location” est un graphique qui trace la racine carrée des résidus en fonction des valeurs ajustées du modèle de régression. Si le tracé en rouge présente une tendance linéaire, on peut admettre que les résidus ont la même variance."
   ]
  },
  {
   "cell_type": "code",
   "execution_count": null,
   "id": "cc151e7c",
   "metadata": {},
   "outputs": [],
   "source": [
    "from statsmodels.compat import lzip\n",
    "from statsmodels.stats.diagnostic import het_breuschpagan, het_white\n",
    "\n",
    "# Obtention des variables explicatives du modèle (exog)\n",
    "exog = resultat.model.exog\n",
    "\n",
    "# Test de Breusch-Pagan\n",
    "bp_test = het_breuschpagan(residuals, exog_het=exog)\n",
    "\n",
    "# Test de White\n",
    "white_test = het_white(residuals, exog=exog)\n",
    "\n",
    "# Affichage des résultats\n",
    "print(\"Test de Breusch-Pagan:\")\n",
    "labels = ['LM Statistic', 'LM p-value', 'F Statistic', 'F p-value']\n",
    "print(lzip(labels, bp_test))\n",
    "\n",
    "print(\"\\nTest de White:\")\n",
    "labels = ['LM Statistic', 'LM p-value', 'F Statistic', 'F p-value']\n",
    "print(lzip(labels, white_test))"
   ]
  },
  {
   "cell_type": "code",
   "execution_count": null,
   "id": "777436b4",
   "metadata": {},
   "outputs": [],
   "source": [
    "sns.scatterplot(x=residuals.index, y=residuals, alpha=0.6)\n",
    "plt.plot(np.repeat(0, len(data.index)), color=\"black\", linestyle='--')\n",
    "plt.title(\"Homoscédasticité\")\n",
    "plt.show()"
   ]
  },
  {
   "cell_type": "markdown",
   "id": "49eb5b71",
   "metadata": {},
   "source": [
    "<b>Test de Breusch-Pagan:</b>\n",
    "\n",
    "Le fait que la p-value soit faible (inférieure à 0,05) dans les deux cas indique que l'hypothèse d'homogénéité des résidus est violée. Cela suggère la présence d'une variance non constante des résidus, ce qui peut affecter la précision et la validité des résultats de votre modèle.\n",
    "\n",
    "<b>Test de White:</b>\n",
    "\n",
    "Les résultats du test de White confirment également la présence d'hétéroscédasticité, avec des p-values faibles.\n",
    "\n",
    "En conclusion, ces résultats suggèrent que <b><span style=\"color:red\">l'hypothèse d'homogénéité des résidus n'est pas vérifiée</span></b> dans votre modèle de régression linéaire. Il peut être nécessaire de prendre des mesures pour remédier à l'hétéroscédasticité, par exemple en utilisant des méthodes de pondération ou en transformant les variables pour obtenir une variance plus constante des résidus.\n",
    "\n",
    "\n",
    "\n",
    "\n",
    "\n"
   ]
  },
  {
   "cell_type": "markdown",
   "id": "92548ca0",
   "metadata": {},
   "source": [
    "--------"
   ]
  },
  {
   "cell_type": "markdown",
   "id": "589e7db5",
   "metadata": {},
   "source": [
    "##### Hypothèse de la normalité des résidus "
   ]
  },
  {
   "cell_type": "code",
   "execution_count": null,
   "id": "df7ac56c",
   "metadata": {},
   "outputs": [],
   "source": [
    "sm.qqplot(residuals, line='s', label=\"Résidus\")\n",
    "plt.title(\"Hypothèse de la normalité des résidus  : Q-Q plot\")\n",
    "plt.legend()\n",
    "plt.show()"
   ]
  },
  {
   "cell_type": "markdown",
   "id": "b8f704a3",
   "metadata": {},
   "source": [
    "<b>Test de Shapiro-Wilk</b>"
   ]
  },
  {
   "cell_type": "code",
   "execution_count": null,
   "id": "7208b32f",
   "metadata": {},
   "outputs": [],
   "source": [
    "from scipy.stats import shapiro\n",
    "\n",
    "statistic, p_value = shapiro(residuals)\n",
    "\n",
    "if p_value > 0.05:\n",
    "    print(\"Les résidus semblent suivre une distribution normale (hypothèse non rejetée).\")\n",
    "    print(\"P-value :\",p_value)\n",
    "else:\n",
    "    print(\"Les résidus ne suivent pas une distribution normale (hypothèse rejetée).\")\n",
    "    print(\"P-value :\",p_value)\n"
   ]
  },
  {
   "cell_type": "code",
   "execution_count": null,
   "id": "2b7bfd8f",
   "metadata": {},
   "outputs": [],
   "source": [
    "sns.distplot(residuals)\n",
    "plt.show()"
   ]
  },
  {
   "cell_type": "markdown",
   "id": "81e3c226",
   "metadata": {},
   "source": [
    "Conclusion des vérification des hypothèses de la régression linéaire : \n",
    "- Linéarité : <b><span style=\"color:red\">NON VERIFIÉ</span></b>\n",
    "- Indépendance des résidus : <b><span style=\"color:green\">VERIFIÉ </span></b>\n",
    "- Homogénéité des résidus : <b><span style=\"color:red\">NON VERIFIÉ</span></b>\n",
    "- Normalité des résidus : <b><span style=\"color:red\">NON VERIFIÉ</span></b>\n",
    "\n",
    "En résumé, bien que la linéarité et la normalité des résidus soient vérifiées, les violations de l'indépendance des résidus et de l'homogénéité des résidus peuvent remettre en question l'utilisation directe de la régression linéaire."
   ]
  },
  {
   "cell_type": "markdown",
   "id": "69da6ad5",
   "metadata": {},
   "source": [
    "-----------------------"
   ]
  },
  {
   "cell_type": "code",
   "execution_count": null,
   "id": "42df4cff",
   "metadata": {},
   "outputs": [],
   "source": []
  },
  {
   "cell_type": "code",
   "execution_count": null,
   "id": "ce938e28",
   "metadata": {},
   "outputs": [],
   "source": []
  },
  {
   "cell_type": "code",
   "execution_count": null,
   "id": "ec1aa5b1",
   "metadata": {},
   "outputs": [],
   "source": []
  },
  {
   "cell_type": "code",
   "execution_count": null,
   "id": "a0a520e2",
   "metadata": {},
   "outputs": [],
   "source": []
  },
  {
   "cell_type": "code",
   "execution_count": null,
   "id": "275802cf",
   "metadata": {},
   "outputs": [],
   "source": []
  },
  {
   "cell_type": "code",
   "execution_count": null,
   "id": "e6336ba4",
   "metadata": {},
   "outputs": [],
   "source": []
  },
  {
   "cell_type": "code",
   "execution_count": null,
   "id": "ab7c7437",
   "metadata": {},
   "outputs": [],
   "source": []
  },
  {
   "cell_type": "code",
   "execution_count": null,
   "id": "4289eacd",
   "metadata": {},
   "outputs": [],
   "source": []
  },
  {
   "cell_type": "code",
   "execution_count": null,
   "id": "4a6c889a",
   "metadata": {},
   "outputs": [],
   "source": [
    "# On définit nos valeurs X et y\n",
    "X = data_vide.drop([\"margin_low\",\"height_right\",\"length\",\"diagonal\",\"height_left\"], axis=1)\n",
    "X = sm.add_constant(X)\n",
    "y = data_vide[\"margin_low\"].values.reshape(len(data_vide),1)"
   ]
  },
  {
   "cell_type": "code",
   "execution_count": null,
   "id": "b28135de",
   "metadata": {},
   "outputs": [],
   "source": [
    "# On réalise la prédiction à l'aide du model créé avec StatModel\n",
    "prediction = resultat.predict(X)"
   ]
  },
  {
   "cell_type": "markdown",
   "id": "e0d65cc1",
   "metadata": {},
   "source": [
    "Maintenant que nous avons nos données dans un tableau, nous allons pouvoir les assigner à notre table data_vide"
   ]
  },
  {
   "cell_type": "code",
   "execution_count": null,
   "id": "f72753a8",
   "metadata": {},
   "outputs": [],
   "source": [
    "# On assigne les données prédites à notre dataframe avec les valeurs vides\n",
    "new_data = data_vide.assign(margin_low=prediction)\n",
    "new_data.head()"
   ]
  },
  {
   "cell_type": "markdown",
   "id": "97a2f416",
   "metadata": {},
   "source": [
    "Afin de vérifier la cohérence des résultats obtenus. Nous allons vérifier quelques informations sur ces données"
   ]
  },
  {
   "cell_type": "code",
   "execution_count": null,
   "id": "0ab5a450",
   "metadata": {},
   "outputs": [],
   "source": [
    "print(\"Avec la prédiction du model de Régression Linéaire\")\n",
    "display(new_data[[\"margin_low\"]].describe())\n",
    "print(\"Sans la prédiction du model de Régression Linéaire\")\n",
    "display(data_non_vide[[\"margin_low\"]].describe())"
   ]
  },
  {
   "cell_type": "markdown",
   "id": "81e2e8cc",
   "metadata": {},
   "source": [
    "On peut constater deux points : \n",
    "- La moyenne du \"margin_low\" est un peu plus faible avec les données prédites\n",
    "- L'écart type est plus faible avec les données prédites"
   ]
  },
  {
   "cell_type": "markdown",
   "id": "2f04d20c",
   "metadata": {},
   "source": [
    "On va pouvoir désormais fusionner nos tables Data_non_vide et New_Data"
   ]
  },
  {
   "cell_type": "code",
   "execution_count": null,
   "id": "e492fee5",
   "metadata": {},
   "outputs": [],
   "source": [
    "data = data_non_vide.append(new_data)"
   ]
  },
  {
   "cell_type": "code",
   "execution_count": null,
   "id": "7fc09b56",
   "metadata": {},
   "outputs": [],
   "source": [
    "my_first_analyse(data)"
   ]
  },
  {
   "cell_type": "markdown",
   "id": "a1e667d5",
   "metadata": {},
   "source": [
    "En combiant de nouveau nos données. On s'apperçoit désormais que les données n'ont pas beaucoup bougé avec l'ajout des informations manquantes dans margin_low. C'est une bonne nouvelle, cela signifie que les données semblent pertinentes."
   ]
  },
  {
   "cell_type": "code",
   "execution_count": null,
   "id": "14787e11",
   "metadata": {},
   "outputs": [],
   "source": [
    "residuals.mean()"
   ]
  },
  {
   "cell_type": "markdown",
   "id": "f51ee10f",
   "metadata": {},
   "source": [
    "# Prédiction des billets"
   ]
  },
  {
   "cell_type": "markdown",
   "id": "a2df66e8",
   "metadata": {},
   "source": [
    "Pour la mise en palce d'un modele capable de prédire au mieux si un billet et vrai ou faux, nous allons tester plusieurs méthodes : \n",
    "- KNeighborsClassifier\n",
    "- LogisticRegression"
   ]
  },
  {
   "cell_type": "markdown",
   "id": "64e61b32",
   "metadata": {},
   "source": [
    "## KNeighborsClassifier (KNN)"
   ]
  },
  {
   "cell_type": "code",
   "execution_count": null,
   "id": "6a2e014c",
   "metadata": {},
   "outputs": [],
   "source": [
    "# On importe KNeighborsClassifier de SKlearn\n",
    "from sklearn.neighbors import KNeighborsClassifier "
   ]
  },
  {
   "cell_type": "code",
   "execution_count": null,
   "id": "4c9db4ac",
   "metadata": {},
   "outputs": [],
   "source": [
    "# On affecte à nos X et y les données nécessaires\n",
    "X = data.drop(\"is_genuine\", axis=1)\n",
    "y = data[\"is_genuine\"]"
   ]
  },
  {
   "cell_type": "code",
   "execution_count": null,
   "id": "d8364bba",
   "metadata": {},
   "outputs": [],
   "source": [
    "# On créé nos DataSet de train et de test\n",
    "X_train, X_test, y_train, y_test = train_test_split(X, y, train_size=0.8, random_state=0)"
   ]
  },
  {
   "cell_type": "code",
   "execution_count": null,
   "id": "b82141bc",
   "metadata": {},
   "outputs": [],
   "source": [
    "# On vérifie pour le KNeighborsClassifier quel est le meilleur nombre de neighbors\n",
    "score = []\n",
    "for i in range(1,10):\n",
    "    model = KNeighborsClassifier(n_neighbors=i)\n",
    "    model.fit(X_train,y_train)\n",
    "    score.append(model.score(X_test,y_test))\n",
    "plt.plot(score)\n",
    "plt.title(\"Graphique du meilleur n_neighbors\")\n",
    "plt.xlabel(\"Nombre de n_neighbors\")\n",
    "plt.ylabel(\"Score avec k neighbors (%)\")\n",
    "plt.show()"
   ]
  },
  {
   "cell_type": "markdown",
   "id": "5481a077",
   "metadata": {},
   "source": [
    "D'après notre graphqiue, nous pouvons en conclure que le meilleur k pour le KNeighborsClassifier() est de 3.  Nous allons donc le vérifier.\n",
    "On va tester l'overfiting pour:\n",
    "- k=3"
   ]
  },
  {
   "cell_type": "code",
   "execution_count": null,
   "id": "b0b55945",
   "metadata": {},
   "outputs": [],
   "source": [
    "# On met en place le model et on vérifie le score sur les données Test\n",
    "model = KNeighborsClassifier(n_neighbors=3)\n",
    "model.fit(X_train, y_train)\n",
    "print(\"Train score:\",model.score(X_train, y_train))\n",
    "print(\"Test score:\",model.score(X_test, y_test))"
   ]
  },
  {
   "cell_type": "code",
   "execution_count": null,
   "id": "3e7103eb",
   "metadata": {
    "scrolled": false
   },
   "outputs": [],
   "source": [
    "# On test pour plusieurs k (de 1 à 50)\n",
    "train_score=[]\n",
    "test_score=[]\n",
    "\n",
    "for k in range(1,50):\n",
    "    model = KNeighborsClassifier(n_neighbors=k)\n",
    "    model.fit(X_train, y_train)\n",
    "    train_score.append(model.score(X_train, y_train))\n",
    "    test_score.append(model.score(X_test, y_test))\n",
    "    \n",
    "plt.plot(train_score, label=\"Train Set\")\n",
    "plt.plot(test_score, label=\"Test Set\")\n",
    "plt.legend()\n",
    "plt.show()"
   ]
  },
  {
   "cell_type": "markdown",
   "id": "c05a0868",
   "metadata": {},
   "source": [
    "### Validation Curve"
   ]
  },
  {
   "cell_type": "code",
   "execution_count": null,
   "id": "77438e93",
   "metadata": {},
   "outputs": [],
   "source": [
    "from sklearn.model_selection import validation_curve"
   ]
  },
  {
   "cell_type": "code",
   "execution_count": null,
   "id": "c793f2a3",
   "metadata": {},
   "outputs": [],
   "source": [
    "model = KNeighborsClassifier()\n",
    "k = np.arange(1,50)\n",
    "\n",
    "train_score, test_score = validation_curve(model, X_train, y_train, param_name=\"n_neighbors\", param_range=k , cv=5)\n",
    "\n",
    "plt.plot(test_score.mean(axis=1), label=\"Test Score\")\n",
    "plt.plot(train_score.mean(axis=1), label=\"Train Score\")\n",
    "plt.xlabel(\"Nombre de n_neighbors\")\n",
    "plt.ylabel(\"Score avec k neighbors (%)\")\n",
    "plt.title(\"Validation Curve\")\n",
    "plt.legend()\n",
    "plt.show()"
   ]
  },
  {
   "cell_type": "markdown",
   "id": "9b41e6a8",
   "metadata": {},
   "source": [
    "### GridSearchCV"
   ]
  },
  {
   "cell_type": "code",
   "execution_count": null,
   "id": "db6bdbd1",
   "metadata": {},
   "outputs": [],
   "source": [
    "from sklearn.model_selection import GridSearchCV"
   ]
  },
  {
   "cell_type": "code",
   "execution_count": null,
   "id": "496697a5",
   "metadata": {},
   "outputs": [],
   "source": [
    "# On définit les paramètres à tester\n",
    "param = {\n",
    "    \"n_neighbors\" : np.arange(1,50),\n",
    "    \"weights\" : [\"uniform\",\"distance\"],\n",
    "    \"algorithm\" : ['auto','ball_tree', 'kd_tree', 'brute'] \n",
    "}\n",
    "\n",
    "# On ajoute notre GridSearchCV a une variable\n",
    "grid = GridSearchCV(KNeighborsClassifier(),param,cv=5)"
   ]
  },
  {
   "cell_type": "code",
   "execution_count": null,
   "id": "381ccea9",
   "metadata": {},
   "outputs": [],
   "source": [
    "# On entraine notre GridSerachCV avec nos données d'entrainement\n",
    "grid.fit(X_train, y_train)"
   ]
  },
  {
   "cell_type": "code",
   "execution_count": null,
   "id": "520c81b6",
   "metadata": {},
   "outputs": [],
   "source": [
    "# On regarde quelle a été le meilleur score obtenu en croisant les différents paramètres\n",
    "grid.best_score_"
   ]
  },
  {
   "cell_type": "code",
   "execution_count": null,
   "id": "3812940b",
   "metadata": {},
   "outputs": [],
   "source": [
    "# On fait apparaitre les meilleurs paramètres qui ont donnés le score au dessus\n",
    "grid.best_params_"
   ]
  },
  {
   "cell_type": "code",
   "execution_count": null,
   "id": "e5eb4a11",
   "metadata": {},
   "outputs": [],
   "source": [
    "# On enregistre les paramètres dans une variable model. Cela nous permettra de réutiliser ses paramètres pour tester nos données Test\n",
    "model_02 = grid.best_estimator_"
   ]
  },
  {
   "cell_type": "code",
   "execution_count": null,
   "id": "92d621c8",
   "metadata": {},
   "outputs": [],
   "source": [
    "# On vérifie le score de notre model optimisé avec les données Test\n",
    "model_02.score(X_test, y_test)"
   ]
  },
  {
   "cell_type": "markdown",
   "id": "750aa3af",
   "metadata": {},
   "source": [
    "### Matrice de confusion"
   ]
  },
  {
   "cell_type": "markdown",
   "id": "9e71f9aa",
   "metadata": {},
   "source": [
    "Afin d'avoir une meilleur vue sur l'exactitude de nos résultats. Nous pouvons réaliser une matrice de confusion. Cette matrice va nous permettre de voir les résultats de notre model vs la réalité (voir faux-positif et faux-négatif)"
   ]
  },
  {
   "cell_type": "code",
   "execution_count": null,
   "id": "f55c35ed",
   "metadata": {},
   "outputs": [],
   "source": [
    "# On importe les librairies nécessaire pour réaliser une matrice de confusion\n",
    "from sklearn.metrics import confusion_matrix\n",
    "from sklearn.metrics import ConfusionMatrixDisplay"
   ]
  },
  {
   "cell_type": "code",
   "execution_count": null,
   "id": "6ef3853b",
   "metadata": {},
   "outputs": [],
   "source": [
    "# On réalise notre matrice de confusion\n",
    "y_pred = model_02.predict(X_test)\n",
    "\n",
    "cm = confusion_matrix(y_test, y_pred)\n",
    "disp = ConfusionMatrixDisplay(confusion_matrix=cm)\n",
    "disp.plot()\n",
    "plt.show()"
   ]
  },
  {
   "cell_type": "markdown",
   "id": "99227fd9",
   "metadata": {},
   "source": [
    "Maintenant que nous avons réalisé notre model et tester ses résultats. Nous pouvons nous demander si notre model pourrait devenir meilleur avec plus de données. Pour cela, nous allon tracer notre <b>Learning Curve</b>"
   ]
  },
  {
   "cell_type": "markdown",
   "id": "a579d308",
   "metadata": {},
   "source": [
    "### Learning Curve"
   ]
  },
  {
   "cell_type": "code",
   "execution_count": null,
   "id": "b4c51e4d",
   "metadata": {},
   "outputs": [],
   "source": [
    "# On importe la bibliothèque nécessaire à réaliser notre courbe d'apprentissage\n",
    "from sklearn.model_selection import learning_curve"
   ]
  },
  {
   "cell_type": "code",
   "execution_count": null,
   "id": "406b3b46",
   "metadata": {},
   "outputs": [],
   "source": [
    "# On réalise notre Learning Curve\n",
    "N, train_scores, test_scores = learning_curve(model, X_train, y_train, train_sizes=np.linspace(0.1, 1.0, 100), cv=5)"
   ]
  },
  {
   "cell_type": "code",
   "execution_count": null,
   "id": "e1dcab9e",
   "metadata": {},
   "outputs": [],
   "source": [
    "# On affiche graphiquement les résultats\n",
    "plt.plot(N, train_scores.mean(axis=1), label=\"Train Scores\")\n",
    "plt.plot(N, test_scores.mean(axis=1), label=\"Test Scores\")\n",
    "plt.legend()\n",
    "plt.show()"
   ]
  },
  {
   "cell_type": "markdown",
   "id": "6d708987",
   "metadata": {},
   "source": [
    "On constate que le Test Score augmente en fonction du nombre de données récolté. D'après le graphique, le model pourrait être plus performant avec plus de données."
   ]
  },
  {
   "cell_type": "markdown",
   "id": "b3d48b34",
   "metadata": {},
   "source": [
    "## Régression Logistique"
   ]
  },
  {
   "cell_type": "code",
   "execution_count": null,
   "id": "437a3fdf",
   "metadata": {},
   "outputs": [],
   "source": [
    "#data = my_inverse_log(data, columns=[\"diagonal\",\"height_left\",\"height_right\",\"margin_low\",\"margin_up\",\"length\"])"
   ]
  },
  {
   "cell_type": "code",
   "execution_count": null,
   "id": "410161bf",
   "metadata": {},
   "outputs": [],
   "source": [
    "# On affecte à nos X et y les données nécessaires\n",
    "X = data.drop(\"is_genuine\", axis=1)\n",
    "y = data[\"is_genuine\"]"
   ]
  },
  {
   "cell_type": "code",
   "execution_count": null,
   "id": "f9be159f",
   "metadata": {},
   "outputs": [],
   "source": [
    "# On importe la librairie nous permettant de faire une Régression Logistique\n",
    "from sklearn.linear_model import LogisticRegression"
   ]
  },
  {
   "cell_type": "code",
   "execution_count": null,
   "id": "b7663822",
   "metadata": {},
   "outputs": [],
   "source": [
    "# On définit notre Train Set et notre Test Set\n",
    "X_train ,X_test, y_train, y_test = train_test_split(X,y, train_size=0.8, random_state=0)"
   ]
  },
  {
   "cell_type": "code",
   "execution_count": null,
   "id": "983a20d6",
   "metadata": {},
   "outputs": [],
   "source": [
    "my_first_analyse(data_base).T"
   ]
  },
  {
   "cell_type": "code",
   "execution_count": null,
   "id": "eef6ec20",
   "metadata": {},
   "outputs": [],
   "source": [
    "# On entraine notre model\n",
    "model_03 = LogisticRegression()\n",
    "model_03 = model_03.fit(X_train, y_train)\n",
    "y_pred = model_03.predict(X_test)\n",
    "\n",
    "# On vérifie le score de notre model sur les données Test\n",
    "model_03.score(X_test, y_test)"
   ]
  },
  {
   "cell_type": "code",
   "execution_count": null,
   "id": "01ba4ea6",
   "metadata": {},
   "outputs": [],
   "source": [
    "cm = confusion_matrix(y_test, y_pred)\n",
    "disp = ConfusionMatrixDisplay(confusion_matrix=cm)\n",
    "disp.plot()\n",
    "plt.show()"
   ]
  },
  {
   "cell_type": "markdown",
   "id": "e4a83304",
   "metadata": {},
   "source": [
    "## K-Means"
   ]
  },
  {
   "cell_type": "code",
   "execution_count": null,
   "id": "b95c18c8",
   "metadata": {},
   "outputs": [],
   "source": [
    "%run My_function.ipynb"
   ]
  },
  {
   "cell_type": "code",
   "execution_count": null,
   "id": "e4ac9b99",
   "metadata": {},
   "outputs": [],
   "source": [
    "test = data.copy()"
   ]
  },
  {
   "cell_type": "code",
   "execution_count": null,
   "id": "c1f90dee",
   "metadata": {},
   "outputs": [],
   "source": [
    "test.index = test[\"is_genuine\"]"
   ]
  },
  {
   "cell_type": "code",
   "execution_count": null,
   "id": "3a9304ac",
   "metadata": {
    "scrolled": false
   },
   "outputs": [],
   "source": [
    "my_pca(6, test, (0,1), labels=test.index)"
   ]
  },
  {
   "cell_type": "code",
   "execution_count": null,
   "id": "4fda2c29",
   "metadata": {},
   "outputs": [],
   "source": [
    "my_kmeans(test, 2)"
   ]
  },
  {
   "cell_type": "code",
   "execution_count": null,
   "id": "4fe2a80e",
   "metadata": {},
   "outputs": [],
   "source": [
    "test"
   ]
  },
  {
   "cell_type": "code",
   "execution_count": null,
   "id": "533ebfd0",
   "metadata": {},
   "outputs": [],
   "source": [
    "cf = confusion_matrix(test.index, test.cluster)\n",
    "cm = ConfusionMatrixDisplay(cf)\n",
    "cm.plot()\n",
    "plt.show()"
   ]
  },
  {
   "cell_type": "code",
   "execution_count": null,
   "id": "f0aebeab",
   "metadata": {},
   "outputs": [],
   "source": [
    "from sklearn.metrics import adjusted_rand_score\n",
    "\n",
    "rand_score = adjusted_rand_score(test.index, test[\"cluster\"])\n",
    "\n",
    "print(\"Adjusted_rand_score :\",rand_score)"
   ]
  },
  {
   "cell_type": "code",
   "execution_count": null,
   "id": "a6e869a8",
   "metadata": {},
   "outputs": [],
   "source": [
    "from sklearn.metrics import f1_score\n",
    "\n",
    "# Calcul du F1 score\n",
    "f1 = f1_score(test.index, test[\"cluster\"], average='weighted')\n",
    "\n",
    "print(\"Le F1 score est de:\",f1)"
   ]
  },
  {
   "cell_type": "markdown",
   "id": "576f045d",
   "metadata": {},
   "source": [
    "# Fonction"
   ]
  },
  {
   "cell_type": "markdown",
   "id": "9568db03",
   "metadata": {},
   "source": [
    "- Régression Linéaire : model_01\n",
    "- KNeighborsClassifier : model_02\n",
    "- Régression Logistique : model_03\n",
    "- Ajoiter K-Means"
   ]
  },
  {
   "cell_type": "code",
   "execution_count": null,
   "id": "49d8eba2",
   "metadata": {},
   "outputs": [],
   "source": [
    "df = pd.read_csv(\"Données/billets-test.csv\", sep=\";\")"
   ]
  },
  {
   "cell_type": "code",
   "execution_count": null,
   "id": "f7415616",
   "metadata": {},
   "outputs": [],
   "source": [
    "def prediction_billet(data):\n",
    "    X = data.drop(\"is_genuine\", axis=1)\n",
    "    y = data[\"is_genuine\"]\n",
    "    \n",
    "    # Application du model avec le Régression logistique\n",
    "    model_03.predict(X)\n",
    "    # Application du model avec le KNN\n",
    "    model_02.predict(X)\n",
    "    \n",
    "    cm = confusion_matrix(data[\"is_genuine\"], model_03.predict(X))\n",
    "    cm2 = confusion_matrix(data[\"is_genuine\"], model_02.predict(X))\n",
    "    cmd = ConfusionMatrixDisplay(cm)\n",
    "    cmd2 = ConfusionMatrixDisplay(cm2)\n",
    "    cmd.plot()\n",
    "    cmd2.plot()\n",
    "    plt.show()"
   ]
  },
  {
   "cell_type": "code",
   "execution_count": null,
   "id": "32010efe",
   "metadata": {},
   "outputs": [],
   "source": [
    "df_copy = data.sample(50)\n",
    "prediction_billet(df_copy)"
   ]
  },
  {
   "cell_type": "code",
   "execution_count": null,
   "id": "dafa8883",
   "metadata": {},
   "outputs": [],
   "source": [
    "prediction_billet(df_copy)"
   ]
  },
  {
   "cell_type": "markdown",
   "id": "961ea7a0",
   "metadata": {},
   "source": [
    "- Interprétation R2 et des coef + p-value\n",
    "- Hypothèses de validité de la régression linéaire\n",
    "- Expliquer les méthodes et les variables (r2 et b-values) régression logistique\n",
    "- Justifier son choix entre k-means et régression logitistique"
   ]
  }
 ],
 "metadata": {
  "kernelspec": {
   "display_name": "Python 3 (ipykernel)",
   "language": "python",
   "name": "python3"
  },
  "language_info": {
   "codemirror_mode": {
    "name": "ipython",
    "version": 3
   },
   "file_extension": ".py",
   "mimetype": "text/x-python",
   "name": "python",
   "nbconvert_exporter": "python",
   "pygments_lexer": "ipython3",
   "version": "3.9.13"
  },
  "toc": {
   "base_numbering": 1,
   "nav_menu": {},
   "number_sections": true,
   "sideBar": false,
   "skip_h1_title": false,
   "title_cell": "Table of Contents",
   "title_sidebar": "Contents",
   "toc_cell": false,
   "toc_position": {
    "height": "820px",
    "left": "1536px",
    "top": "110px",
    "width": "384px"
   },
   "toc_section_display": true,
   "toc_window_display": true
  },
  "varInspector": {
   "cols": {
    "lenName": 16,
    "lenType": 16,
    "lenVar": 40
   },
   "kernels_config": {
    "python": {
     "delete_cmd_postfix": "",
     "delete_cmd_prefix": "del ",
     "library": "var_list.py",
     "varRefreshCmd": "print(var_dic_list())"
    },
    "r": {
     "delete_cmd_postfix": ") ",
     "delete_cmd_prefix": "rm(",
     "library": "var_list.r",
     "varRefreshCmd": "cat(var_dic_list()) "
    }
   },
   "types_to_exclude": [
    "module",
    "function",
    "builtin_function_or_method",
    "instance",
    "_Feature"
   ],
   "window_display": false
  }
 },
 "nbformat": 4,
 "nbformat_minor": 5
}
