{
 "cells": [
  {
   "cell_type": "code",
   "execution_count": 1,
   "id": "35a27db8",
   "metadata": {},
   "outputs": [],
   "source": [
    "%run Fonction_Prédiction_Billets.ipynb"
   ]
  },
  {
   "cell_type": "code",
   "execution_count": 2,
   "id": "fbd69e48",
   "metadata": {},
   "outputs": [],
   "source": [
    "df = pd.read_csv(\"Données/billets.csv\", sep=\";\")\n",
    "data = df.sample(5)\n",
    "test_data = data.drop(\"is_genuine\", axis=1)"
   ]
  },
  {
   "cell_type": "code",
   "execution_count": 3,
   "id": "adb84751",
   "metadata": {},
   "outputs": [
    {
     "data": {
      "text/html": [
       "<div>\n",
       "<style scoped>\n",
       "    .dataframe tbody tr th:only-of-type {\n",
       "        vertical-align: middle;\n",
       "    }\n",
       "\n",
       "    .dataframe tbody tr th {\n",
       "        vertical-align: top;\n",
       "    }\n",
       "\n",
       "    .dataframe thead th {\n",
       "        text-align: right;\n",
       "    }\n",
       "</style>\n",
       "<table border=\"1\" class=\"dataframe\">\n",
       "  <thead>\n",
       "    <tr style=\"text-align: right;\">\n",
       "      <th></th>\n",
       "      <th>diagonal</th>\n",
       "      <th>height_left</th>\n",
       "      <th>height_right</th>\n",
       "      <th>margin_low</th>\n",
       "      <th>margin_up</th>\n",
       "      <th>length</th>\n",
       "      <th>cluster</th>\n",
       "    </tr>\n",
       "  </thead>\n",
       "  <tbody>\n",
       "    <tr>\n",
       "      <th>1123</th>\n",
       "      <td>172.07</td>\n",
       "      <td>104.03</td>\n",
       "      <td>103.58</td>\n",
       "      <td>5.33</td>\n",
       "      <td>3.64</td>\n",
       "      <td>111.27</td>\n",
       "      <td>1</td>\n",
       "    </tr>\n",
       "    <tr>\n",
       "      <th>1040</th>\n",
       "      <td>171.91</td>\n",
       "      <td>104.08</td>\n",
       "      <td>104.16</td>\n",
       "      <td>5.91</td>\n",
       "      <td>3.41</td>\n",
       "      <td>111.32</td>\n",
       "      <td>1</td>\n",
       "    </tr>\n",
       "    <tr>\n",
       "      <th>44</th>\n",
       "      <td>171.79</td>\n",
       "      <td>103.83</td>\n",
       "      <td>103.76</td>\n",
       "      <td>3.99</td>\n",
       "      <td>3.18</td>\n",
       "      <td>112.90</td>\n",
       "      <td>0</td>\n",
       "    </tr>\n",
       "    <tr>\n",
       "      <th>285</th>\n",
       "      <td>172.27</td>\n",
       "      <td>103.78</td>\n",
       "      <td>103.86</td>\n",
       "      <td>4.25</td>\n",
       "      <td>2.86</td>\n",
       "      <td>112.73</td>\n",
       "      <td>0</td>\n",
       "    </tr>\n",
       "    <tr>\n",
       "      <th>212</th>\n",
       "      <td>171.59</td>\n",
       "      <td>104.06</td>\n",
       "      <td>103.85</td>\n",
       "      <td>4.41</td>\n",
       "      <td>3.29</td>\n",
       "      <td>113.49</td>\n",
       "      <td>0</td>\n",
       "    </tr>\n",
       "  </tbody>\n",
       "</table>\n",
       "</div>"
      ],
      "text/plain": [
       "      diagonal  height_left  height_right  margin_low  margin_up  length  \\\n",
       "1123    172.07       104.03        103.58        5.33       3.64  111.27   \n",
       "1040    171.91       104.08        104.16        5.91       3.41  111.32   \n",
       "44      171.79       103.83        103.76        3.99       3.18  112.90   \n",
       "285     172.27       103.78        103.86        4.25       2.86  112.73   \n",
       "212     171.59       104.06        103.85        4.41       3.29  113.49   \n",
       "\n",
       "      cluster  \n",
       "1123        1  \n",
       "1040        1  \n",
       "44          0  \n",
       "285         0  \n",
       "212         0  "
      ]
     },
     "metadata": {},
     "output_type": "display_data"
    }
   ],
   "source": [
    "prediction_billet(test_data)"
   ]
  },
  {
   "cell_type": "code",
   "execution_count": 9,
   "id": "d3894eaf",
   "metadata": {},
   "outputs": [
    {
     "data": {
      "text/html": [
       "<div>\n",
       "<style scoped>\n",
       "    .dataframe tbody tr th:only-of-type {\n",
       "        vertical-align: middle;\n",
       "    }\n",
       "\n",
       "    .dataframe tbody tr th {\n",
       "        vertical-align: top;\n",
       "    }\n",
       "\n",
       "    .dataframe thead th {\n",
       "        text-align: right;\n",
       "    }\n",
       "</style>\n",
       "<table border=\"1\" class=\"dataframe\">\n",
       "  <thead>\n",
       "    <tr style=\"text-align: right;\">\n",
       "      <th></th>\n",
       "      <th>is_genuine</th>\n",
       "      <th>diagonal</th>\n",
       "      <th>height_left</th>\n",
       "      <th>height_right</th>\n",
       "      <th>margin_low</th>\n",
       "      <th>margin_up</th>\n",
       "      <th>length</th>\n",
       "    </tr>\n",
       "  </thead>\n",
       "  <tbody>\n",
       "    <tr>\n",
       "      <th>212</th>\n",
       "      <td>True</td>\n",
       "      <td>171.59</td>\n",
       "      <td>104.06</td>\n",
       "      <td>103.85</td>\n",
       "      <td>4.41</td>\n",
       "      <td>3.29</td>\n",
       "      <td>113.49</td>\n",
       "    </tr>\n",
       "  </tbody>\n",
       "</table>\n",
       "</div>"
      ],
      "text/plain": [
       "     is_genuine  diagonal  height_left  height_right  margin_low  margin_up  \\\n",
       "212        True    171.59       104.06        103.85        4.41       3.29   \n",
       "\n",
       "     length  \n",
       "212  113.49  "
      ]
     },
     "execution_count": 9,
     "metadata": {},
     "output_type": "execute_result"
    }
   ],
   "source": [
    "data.loc[data.index==212]"
   ]
  },
  {
   "cell_type": "code",
   "execution_count": null,
   "id": "d65fd49c",
   "metadata": {},
   "outputs": [],
   "source": []
  }
 ],
 "metadata": {
  "kernelspec": {
   "display_name": "Python 3 (ipykernel)",
   "language": "python",
   "name": "python3"
  },
  "language_info": {
   "codemirror_mode": {
    "name": "ipython",
    "version": 3
   },
   "file_extension": ".py",
   "mimetype": "text/x-python",
   "name": "python",
   "nbconvert_exporter": "python",
   "pygments_lexer": "ipython3",
   "version": "3.9.13"
  },
  "toc": {
   "base_numbering": 1,
   "nav_menu": {},
   "number_sections": true,
   "sideBar": true,
   "skip_h1_title": false,
   "title_cell": "Table of Contents",
   "title_sidebar": "Contents",
   "toc_cell": false,
   "toc_position": {},
   "toc_section_display": true,
   "toc_window_display": false
  },
  "varInspector": {
   "cols": {
    "lenName": 16,
    "lenType": 16,
    "lenVar": 40
   },
   "kernels_config": {
    "python": {
     "delete_cmd_postfix": "",
     "delete_cmd_prefix": "del ",
     "library": "var_list.py",
     "varRefreshCmd": "print(var_dic_list())"
    },
    "r": {
     "delete_cmd_postfix": ") ",
     "delete_cmd_prefix": "rm(",
     "library": "var_list.r",
     "varRefreshCmd": "cat(var_dic_list()) "
    }
   },
   "types_to_exclude": [
    "module",
    "function",
    "builtin_function_or_method",
    "instance",
    "_Feature"
   ],
   "window_display": false
  }
 },
 "nbformat": 4,
 "nbformat_minor": 5
}
