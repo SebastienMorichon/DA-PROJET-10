{
 "cells": [
  {
   "cell_type": "code",
   "execution_count": 1,
   "id": "82663788",
   "metadata": {},
   "outputs": [],
   "source": [
    "%run Morichon_Sébastien_2_code_062023.ipynb"
   ]
  },
  {
   "cell_type": "code",
   "execution_count": 2,
   "id": "57bb51d1",
   "metadata": {},
   "outputs": [],
   "source": [
    "df = pd.read_csv(\"Données/billets.csv\", sep=\";\")\n",
    "data = df.sample(5)\n",
    "test_data = data.drop(\"is_genuine\", axis=1)"
   ]
  },
  {
   "cell_type": "code",
   "execution_count": 3,
   "id": "6765e3ab",
   "metadata": {},
   "outputs": [
    {
     "data": {
      "text/html": [
       "<div>\n",
       "<style scoped>\n",
       "    .dataframe tbody tr th:only-of-type {\n",
       "        vertical-align: middle;\n",
       "    }\n",
       "\n",
       "    .dataframe tbody tr th {\n",
       "        vertical-align: top;\n",
       "    }\n",
       "\n",
       "    .dataframe thead th {\n",
       "        text-align: right;\n",
       "    }\n",
       "</style>\n",
       "<table border=\"1\" class=\"dataframe\">\n",
       "  <thead>\n",
       "    <tr style=\"text-align: right;\">\n",
       "      <th></th>\n",
       "      <th>diagonal</th>\n",
       "      <th>height_left</th>\n",
       "      <th>height_right</th>\n",
       "      <th>margin_low</th>\n",
       "      <th>margin_up</th>\n",
       "      <th>length</th>\n",
       "      <th>cluster</th>\n",
       "    </tr>\n",
       "  </thead>\n",
       "  <tbody>\n",
       "    <tr>\n",
       "      <th>80</th>\n",
       "      <td>171.89</td>\n",
       "      <td>103.42</td>\n",
       "      <td>103.35</td>\n",
       "      <td>4.92</td>\n",
       "      <td>3.02</td>\n",
       "      <td>113.20</td>\n",
       "      <td>1</td>\n",
       "    </tr>\n",
       "    <tr>\n",
       "      <th>87</th>\n",
       "      <td>171.70</td>\n",
       "      <td>103.75</td>\n",
       "      <td>103.40</td>\n",
       "      <td>4.47</td>\n",
       "      <td>3.28</td>\n",
       "      <td>113.57</td>\n",
       "      <td>1</td>\n",
       "    </tr>\n",
       "    <tr>\n",
       "      <th>1423</th>\n",
       "      <td>171.74</td>\n",
       "      <td>104.17</td>\n",
       "      <td>104.56</td>\n",
       "      <td>5.54</td>\n",
       "      <td>3.05</td>\n",
       "      <td>111.67</td>\n",
       "      <td>0</td>\n",
       "    </tr>\n",
       "    <tr>\n",
       "      <th>1283</th>\n",
       "      <td>171.60</td>\n",
       "      <td>104.23</td>\n",
       "      <td>104.45</td>\n",
       "      <td>5.57</td>\n",
       "      <td>3.45</td>\n",
       "      <td>110.34</td>\n",
       "      <td>0</td>\n",
       "    </tr>\n",
       "    <tr>\n",
       "      <th>1334</th>\n",
       "      <td>172.22</td>\n",
       "      <td>104.41</td>\n",
       "      <td>104.64</td>\n",
       "      <td>5.20</td>\n",
       "      <td>3.37</td>\n",
       "      <td>112.20</td>\n",
       "      <td>0</td>\n",
       "    </tr>\n",
       "  </tbody>\n",
       "</table>\n",
       "</div>"
      ],
      "text/plain": [
       "      diagonal  height_left  height_right  margin_low  margin_up  length  \\\n",
       "80      171.89       103.42        103.35        4.92       3.02  113.20   \n",
       "87      171.70       103.75        103.40        4.47       3.28  113.57   \n",
       "1423    171.74       104.17        104.56        5.54       3.05  111.67   \n",
       "1283    171.60       104.23        104.45        5.57       3.45  110.34   \n",
       "1334    172.22       104.41        104.64        5.20       3.37  112.20   \n",
       "\n",
       "      cluster  \n",
       "80          1  \n",
       "87          1  \n",
       "1423        0  \n",
       "1283        0  \n",
       "1334        0  "
      ]
     },
     "metadata": {},
     "output_type": "display_data"
    }
   ],
   "source": [
    "prediction_billet(test_data)"
   ]
  },
  {
   "cell_type": "code",
   "execution_count": 9,
   "id": "4de5175f",
   "metadata": {},
   "outputs": [
    {
     "data": {
      "text/html": [
       "<div>\n",
       "<style scoped>\n",
       "    .dataframe tbody tr th:only-of-type {\n",
       "        vertical-align: middle;\n",
       "    }\n",
       "\n",
       "    .dataframe tbody tr th {\n",
       "        vertical-align: top;\n",
       "    }\n",
       "\n",
       "    .dataframe thead th {\n",
       "        text-align: right;\n",
       "    }\n",
       "</style>\n",
       "<table border=\"1\" class=\"dataframe\">\n",
       "  <thead>\n",
       "    <tr style=\"text-align: right;\">\n",
       "      <th></th>\n",
       "      <th>is_genuine</th>\n",
       "      <th>diagonal</th>\n",
       "      <th>height_left</th>\n",
       "      <th>height_right</th>\n",
       "      <th>margin_low</th>\n",
       "      <th>margin_up</th>\n",
       "      <th>length</th>\n",
       "    </tr>\n",
       "  </thead>\n",
       "  <tbody>\n",
       "    <tr>\n",
       "      <th>1334</th>\n",
       "      <td>False</td>\n",
       "      <td>172.22</td>\n",
       "      <td>104.41</td>\n",
       "      <td>104.64</td>\n",
       "      <td>5.2</td>\n",
       "      <td>3.37</td>\n",
       "      <td>112.2</td>\n",
       "    </tr>\n",
       "  </tbody>\n",
       "</table>\n",
       "</div>"
      ],
      "text/plain": [
       "      is_genuine  diagonal  height_left  height_right  margin_low  margin_up  \\\n",
       "1334       False    172.22       104.41        104.64         5.2       3.37   \n",
       "\n",
       "      length  \n",
       "1334   112.2  "
      ]
     },
     "execution_count": 9,
     "metadata": {},
     "output_type": "execute_result"
    }
   ],
   "source": [
    "data.loc[data.index==1334]"
   ]
  },
  {
   "cell_type": "code",
   "execution_count": null,
   "id": "6fc62b09",
   "metadata": {},
   "outputs": [],
   "source": []
  }
 ],
 "metadata": {
  "kernelspec": {
   "display_name": "Python 3 (ipykernel)",
   "language": "python",
   "name": "python3"
  },
  "language_info": {
   "codemirror_mode": {
    "name": "ipython",
    "version": 3
   },
   "file_extension": ".py",
   "mimetype": "text/x-python",
   "name": "python",
   "nbconvert_exporter": "python",
   "pygments_lexer": "ipython3",
   "version": "3.9.13"
  },
  "toc": {
   "base_numbering": 1,
   "nav_menu": {},
   "number_sections": true,
   "sideBar": true,
   "skip_h1_title": false,
   "title_cell": "Table of Contents",
   "title_sidebar": "Contents",
   "toc_cell": false,
   "toc_position": {},
   "toc_section_display": true,
   "toc_window_display": false
  },
  "varInspector": {
   "cols": {
    "lenName": 16,
    "lenType": 16,
    "lenVar": 40
   },
   "kernels_config": {
    "python": {
     "delete_cmd_postfix": "",
     "delete_cmd_prefix": "del ",
     "library": "var_list.py",
     "varRefreshCmd": "print(var_dic_list())"
    },
    "r": {
     "delete_cmd_postfix": ") ",
     "delete_cmd_prefix": "rm(",
     "library": "var_list.r",
     "varRefreshCmd": "cat(var_dic_list()) "
    }
   },
   "types_to_exclude": [
    "module",
    "function",
    "builtin_function_or_method",
    "instance",
    "_Feature"
   ],
   "window_display": false
  }
 },
 "nbformat": 4,
 "nbformat_minor": 5
}
