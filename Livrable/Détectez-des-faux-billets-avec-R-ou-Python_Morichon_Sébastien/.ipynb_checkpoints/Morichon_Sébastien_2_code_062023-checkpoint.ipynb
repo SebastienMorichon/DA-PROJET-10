{
 "cells": [
  {
   "cell_type": "code",
   "execution_count": 1,
   "id": "b9f5ca6c",
   "metadata": {},
   "outputs": [],
   "source": [
    "%run My_function.ipynb"
   ]
  },
  {
   "cell_type": "code",
   "execution_count": 2,
   "id": "1beb5635",
   "metadata": {},
   "outputs": [],
   "source": [
    "import joblib"
   ]
  },
  {
   "cell_type": "code",
   "execution_count": 3,
   "id": "5e0ad95b",
   "metadata": {},
   "outputs": [],
   "source": [
    "def prediction_billet_kmeans(data):\n",
    "    #data = data.set_index(data[\"id\"])\n",
    "    #data.drop(\"id\", axis=1, inplace=True)\n",
    "    # On charge le model_04\n",
    "    data = my_data_scaler(data, scaler_all=True, method=\"standard\")\n",
    "    model_04 = joblib.load('modele_kmeans.joblib')\n",
    "    # On commence par supprimer les individus dont les données en margin_low sont absentes\n",
    "    data = data.loc[~data[\"margin_low\"].isna()]\n",
    "    # On selectionne nos données X\n",
    "    X = data\n",
    "    # On réalise la prédiction avec le model pré-entrainer\n",
    "    labels = model_04.predict(data)\n",
    "    # On créé une colonne dans notre table en ajoutant les labels calculé par le model\n",
    "    data[\"cluster\"] = labels\n",
    "    display(data)"
   ]
  },
  {
   "cell_type": "code",
   "execution_count": 7,
   "id": "36beb4ae",
   "metadata": {},
   "outputs": [],
   "source": [
    "def prediction_billet_RL(data):\n",
    "    #data = data.set_index(data[\"id\"])\n",
    "    #data.drop(\"id\", axis=1, inplace=True)\n",
    "    data.drop([\"diagonal\",\"height_left\"], axis=1, inplace=True)\n",
    "    # On charge le model_04\n",
    "    data = my_data_scaler(data, scaler_all=True, method=\"standard\")\n",
    "    model_03 = joblib.load('modele_RL.joblib')\n",
    "    # On commence par supprimer les individus dont les données en margin_low sont absentes\n",
    "    data = data.loc[~data[\"margin_low\"].isna()]\n",
    "    # On selectionne nos données X\n",
    "    X = data\n",
    "    # On réalise la prédiction avec le model pré-entrainer\n",
    "    prediction = model_03.predict(data)\n",
    "    # On créé une colonne dans notre table en ajoutant les labels calculé par le model\n",
    "    data[\"Prédiction\"] = prediction\n",
    "    display(data)"
   ]
  },
  {
   "cell_type": "code",
   "execution_count": null,
   "id": "63141298",
   "metadata": {},
   "outputs": [],
   "source": []
  }
 ],
 "metadata": {
  "kernelspec": {
   "display_name": "Python 3 (ipykernel)",
   "language": "python",
   "name": "python3"
  },
  "language_info": {
   "codemirror_mode": {
    "name": "ipython",
    "version": 3
   },
   "file_extension": ".py",
   "mimetype": "text/x-python",
   "name": "python",
   "nbconvert_exporter": "python",
   "pygments_lexer": "ipython3",
   "version": "3.9.13"
  },
  "toc": {
   "base_numbering": 1,
   "nav_menu": {},
   "number_sections": true,
   "sideBar": true,
   "skip_h1_title": false,
   "title_cell": "Table of Contents",
   "title_sidebar": "Contents",
   "toc_cell": false,
   "toc_position": {},
   "toc_section_display": true,
   "toc_window_display": false
  },
  "varInspector": {
   "cols": {
    "lenName": 16,
    "lenType": 16,
    "lenVar": 40
   },
   "kernels_config": {
    "python": {
     "delete_cmd_postfix": "",
     "delete_cmd_prefix": "del ",
     "library": "var_list.py",
     "varRefreshCmd": "print(var_dic_list())"
    },
    "r": {
     "delete_cmd_postfix": ") ",
     "delete_cmd_prefix": "rm(",
     "library": "var_list.r",
     "varRefreshCmd": "cat(var_dic_list()) "
    }
   },
   "types_to_exclude": [
    "module",
    "function",
    "builtin_function_or_method",
    "instance",
    "_Feature"
   ],
   "window_display": false
  }
 },
 "nbformat": 4,
 "nbformat_minor": 5
}
